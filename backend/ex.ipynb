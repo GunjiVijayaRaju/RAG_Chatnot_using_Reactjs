{
 "cells": [
  {
   "cell_type": "code",
   "execution_count": 3,
   "metadata": {},
   "outputs": [
    {
     "name": "stdout",
     "output_type": "stream",
     "text": [
      "multi queries=========================> Here are five alternative versions of the user question to retrieve relevant documents from a vector database:\n",
      "\n",
      "What are some notable facts about Vijay?\n",
      "\n",
      "What can you tell me about Vijay's life and career?\n",
      "\n",
      "Can you provide information about Vijay's achievements and awards?\n",
      "\n",
      "What are some interesting things about Vijay's personal and professional life?\n",
      "\n",
      "What kind of content is available about Vijay, and where can I find it?\n"
     ]
    }
   ],
   "source": [
    "from operator import itemgetter\n",
    "from langchain_core.prompts.prompt import PromptTemplate\n",
    "from langchain_core.prompts import ChatPromptTemplate,MessagesPlaceholder\n",
    "from langchain.schema.output_parser import StrOutputParser\n",
    "from langchain_core.runnables.history import RunnableWithMessageHistory\n",
    "from langchain_community.chat_message_histories import SQLChatMessageHistory\n",
    "from langchain_groq import ChatGroq\n",
    "from langchain.memory import ConversationBufferMemory\n",
    "from langchain.chains import ConversationChain\n",
    "from langchain.retrievers import BM25Retriever,EnsembleRetriever\n",
    "from langchain_core.runnables import RunnablePassthrough\n",
    "\n",
    "\n",
    "groq_api_key = \"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\"\n",
    "\n",
    "model =ChatGroq(groq_api_key=groq_api_key, model_name=\"Llama3-8b-8192\") \n",
    "\n",
    "template =\"\"\"You are an AI language model assistant. Your task is to generate five different versions of the given user question to retrieve relevant documents from a vector database. By generating multiple perspectives on the user question, your goal is to help the user overcome some of the limitations of the distance-based similarity search. Provide these alternative questions separated by newlines. Original question: {question}\n",
    "                    \"\"\" \n",
    "\n",
    "            # prompt_perspectives = ChatPromptTemplate.from_messages(\n",
    "            #     [\n",
    "            #         (\"system\",template),\n",
    "            #         MessagesPlaceholder(\"chat_history\"),\n",
    "            #         (\"human\",\"{question}\"),\n",
    "            #     ]\n",
    "            # )\n",
    "prompt_perspectives = ChatPromptTemplate.from_template(template)\n",
    "\n",
    "generate_queries = prompt_perspectives| model | StrOutputParser()\n",
    "\n",
    "print(\"multi queries=========================>\",generate_queries.invoke(\"tell me some things about vijay\"))"
   ]
  },
  {
   "cell_type": "code",
   "execution_count": 1,
   "metadata": {},
   "outputs": [],
   "source": [
    "from langchain_text_splitters import RecursiveCharacterTextSplitter\n",
    "from langchain_community.document_loaders import PyPDFLoader\n",
    "from langchain_community.vectorstores import Chroma\n",
    "from langchain.vectorstores.utils import filter_complex_metadata\n",
    "from langchain.embeddings import FastEmbedEmbeddings,FakeEmbeddings\n",
    "from langchain.retrievers import BM25Retriever,EnsembleRetriever\n",
    "from operator import itemgetter\n",
    "from langchain_core.prompts.prompt import PromptTemplate\n",
    "from langchain_core.prompts import ChatPromptTemplate,MessagesPlaceholder\n",
    "from langchain.schema.output_parser import StrOutputParser\n",
    "from langchain_core.runnables.history import RunnableWithMessageHistory\n",
    "from langchain_community.chat_message_histories import SQLChatMessageHistory\n",
    "from langchain_groq import ChatGroq\n",
    "from langchain.memory import ConversationBufferMemory\n",
    "from langchain.chains import ConversationChain\n",
    "from langchain.retrievers import BM25Retriever,EnsembleRetriever\n",
    "from langchain_core.runnables import RunnablePassthrough\n"
   ]
  },
  {
   "cell_type": "code",
   "execution_count": null,
   "metadata": {},
   "outputs": [],
   "source": [
    "pip install pypdf"
   ]
  },
  {
   "cell_type": "code",
   "execution_count": null,
   "metadata": {},
   "outputs": [],
   "source": []
  },
  {
   "cell_type": "code",
   "execution_count": 2,
   "metadata": {},
   "outputs": [
    {
     "name": "stdout",
     "output_type": "stream",
     "text": [
      "docs================> <generator object PyPDFLoader.lazy_load at 0x000001F3F4EFDA80>\n"
     ]
    }
   ],
   "source": [
    "docs=PyPDFLoader(file_path=r\"C:\\Users\\my pc\\Downloads\\Vijaya Gunji report  (3).pdf\").lazy_load()\n",
    "print(\"docs================>\",docs)"
   ]
  },
  {
   "cell_type": "code",
   "execution_count": 3,
   "metadata": {},
   "outputs": [
    {
     "name": "stdout",
     "output_type": "stream",
     "text": [
      "[Document(metadata={'source': 'C:\\\\Users\\\\my pc\\\\Downloads\\\\Vijaya Gunji report  (3).pdf', 'page': 0, 'page_label': '1'}, page_content='Result : \\nCourse Name : \\nCourse Duration : \\nParticipant Name : \\nParticipant Email ID : \\n% of TOC read :\\nACTIVITY DETAILS OF PARTICIPANT\\nCourse Type : \\nReport Generated At : \\nParticipant Unique ID :\\nGrade Obtained :\\nActivity\\nType\\nActivity\\nName\\nAttempt No Total Marks Pass Marks/\\nCutOff\\nMarks\\nObtained\\nGrade Activity\\nAttempted\\nActivity\\nStatus\\nAssignment\\nLink\\nAssessment Assessment_\\nCSI\\n1 30.0 20 30.0 NA Completed Pass N.A.\\nAssessment Assessment_\\nService\\nDesign\\n1 30.0 20 30.0 NA Completed Pass N.A.\\nAssessment ITIL Final\\nAssessment\\n1 100.0 80 88.0 NA Completed Pass N.A.\\nAssessment Assessment_\\nService\\nOperation\\n1 70.0 40 70.0 NA Completed Pass N.A.\\nAssessment Assessment_\\nService\\nStrategy\\n1 30.0 20 20.0 NA Completed Pass N.A.\\nAssessment Assessment_\\nITIL\\nIntroduction\\n1 30.0 20 20.0 NA Completed Pass N.A.\\nAssessment Assessment_\\nService\\nTransition\\n1 30.0 20 30.0 NA Completed Pass N.A.\\nB\\n01 Mar 2025 11:26 AM\\nCLP - RiO - Application Operation Competency - E0 - SP Batch 7\\nSelf Paced\\n88.0 %\\nVijaya Gunji\\nPass\\n2476596'), Document(metadata={'source': 'C:\\\\Users\\\\my pc\\\\Downloads\\\\Vijaya Gunji report  (3).pdf', 'page': 0, 'page_label': '1'}, page_content='Self Paced\\n88.0 %\\nVijaya Gunji\\nPass\\n2476596\\n1095 Days\\nvijayaraju.gunji@tcs.com')]\n"
     ]
    },
    {
     "name": "stderr",
     "output_type": "stream",
     "text": [
      "Number of requested results 4 is greater than number of elements in index 2, updating n_results = 2\n"
     ]
    },
    {
     "name": "stdout",
     "output_type": "stream",
     "text": [
      "retriver==========> [Document(metadata={'page': 0, 'page_label': '1', 'source': 'C:\\\\Users\\\\my pc\\\\Downloads\\\\Vijaya Gunji report  (3).pdf'}, page_content='Result : \\nCourse Name : \\nCourse Duration : \\nParticipant Name : \\nParticipant Email ID : \\n% of TOC read :\\nACTIVITY DETAILS OF PARTICIPANT\\nCourse Type : \\nReport Generated At : \\nParticipant Unique ID :\\nGrade Obtained :\\nActivity\\nType\\nActivity\\nName\\nAttempt No Total Marks Pass Marks/\\nCutOff\\nMarks\\nObtained\\nGrade Activity\\nAttempted\\nActivity\\nStatus\\nAssignment\\nLink\\nAssessment Assessment_\\nCSI\\n1 30.0 20 30.0 NA Completed Pass N.A.\\nAssessment Assessment_\\nService\\nDesign\\n1 30.0 20 30.0 NA Completed Pass N.A.\\nAssessment ITIL Final\\nAssessment\\n1 100.0 80 88.0 NA Completed Pass N.A.\\nAssessment Assessment_\\nService\\nOperation\\n1 70.0 40 70.0 NA Completed Pass N.A.\\nAssessment Assessment_\\nService\\nStrategy\\n1 30.0 20 20.0 NA Completed Pass N.A.\\nAssessment Assessment_\\nITIL\\nIntroduction\\n1 30.0 20 20.0 NA Completed Pass N.A.\\nAssessment Assessment_\\nService\\nTransition\\n1 30.0 20 30.0 NA Completed Pass N.A.\\nB\\n01 Mar 2025 11:26 AM\\nCLP - RiO - Application Operation Competency - E0 - SP Batch 7\\nSelf Paced\\n88.0 %\\nVijaya Gunji\\nPass\\n2476596'), Document(metadata={'page': 0, 'page_label': '1', 'source': 'C:\\\\Users\\\\my pc\\\\Downloads\\\\Vijaya Gunji report  (3).pdf'}, page_content='Self Paced\\n88.0 %\\nVijaya Gunji\\nPass\\n2476596\\n1095 Days\\nvijayaraju.gunji@tcs.com')]\n"
     ]
    }
   ],
   "source": [
    "text_splitter = RecursiveCharacterTextSplitter(chunk_size=1024,chunk_overlap=100)\n",
    "chunks = text_splitter.split_documents(docs)\n",
    "chunks1 = filter_complex_metadata(chunks)\n",
    "print(chunks)\n",
    "vector_store = Chroma.from_documents(documents=chunks1,embedding= FakeEmbeddings(size=1532))\n",
    "\n",
    "retriver = vector_store.as_retriever()\n",
    "print(\"retriver==========>\",retriver.invoke(\"give me information about vijay\"))\n",
    "keyword_retriver = BM25Retriever.from_documents(chunks)"
   ]
  },
  {
   "cell_type": "code",
   "execution_count": null,
   "metadata": {},
   "outputs": [],
   "source": [
    "pip install chromadb"
   ]
  },
  {
   "cell_type": "code",
   "execution_count": null,
   "metadata": {},
   "outputs": [],
   "source": [
    "pip install rank-bm25"
   ]
  },
  {
   "cell_type": "code",
   "execution_count": 16,
   "metadata": {},
   "outputs": [
    {
     "name": "stderr",
     "output_type": "stream",
     "text": [
      "Number of requested results 4 is greater than number of elements in index 2, updating n_results = 2\n"
     ]
    },
    {
     "name": "stdout",
     "output_type": "stream",
     "text": [
      "Ensemble retriver ============> [Document(metadata={'page': 0, 'page_label': '1', 'source': 'C:\\\\Users\\\\my pc\\\\Downloads\\\\Vijaya Gunji report  (3).pdf'}, page_content='Result : \\nCourse Name : \\nCourse Duration : \\nParticipant Name : \\nParticipant Email ID : \\n% of TOC read :\\nACTIVITY DETAILS OF PARTICIPANT\\nCourse Type : \\nReport Generated At : \\nParticipant Unique ID :\\nGrade Obtained :\\nActivity\\nType\\nActivity\\nName\\nAttempt No Total Marks Pass Marks/\\nCutOff\\nMarks\\nObtained\\nGrade Activity\\nAttempted\\nActivity\\nStatus\\nAssignment\\nLink\\nAssessment Assessment_\\nCSI\\n1 30.0 20 30.0 NA Completed Pass N.A.\\nAssessment Assessment_\\nService\\nDesign\\n1 30.0 20 30.0 NA Completed Pass N.A.\\nAssessment ITIL Final\\nAssessment\\n1 100.0 80 88.0 NA Completed Pass N.A.\\nAssessment Assessment_\\nService\\nOperation\\n1 70.0 40 70.0 NA Completed Pass N.A.\\nAssessment Assessment_\\nService\\nStrategy\\n1 30.0 20 20.0 NA Completed Pass N.A.\\nAssessment Assessment_\\nITIL\\nIntroduction\\n1 30.0 20 20.0 NA Completed Pass N.A.\\nAssessment Assessment_\\nService\\nTransition\\n1 30.0 20 30.0 NA Completed Pass N.A.\\nB\\n01 Mar 2025 11:26 AM\\nCLP - RiO - Application Operation Competency - E0 - SP Batch 7\\nSelf Paced\\n88.0 %\\nVijaya Gunji\\nPass\\n2476596'), Document(metadata={'page': 0, 'page_label': '1', 'source': 'C:\\\\Users\\\\my pc\\\\Downloads\\\\Vijaya Gunji report  (3).pdf'}, page_content='Self Paced\\n88.0 %\\nVijaya Gunji\\nPass\\n2476596\\n1095 Days\\nvijayaraju.gunji@tcs.com')]\n",
      "multi queries=========================> ['Here are five different versions of the original question to help retrieve relevant documents from a vector database:', '', 'Give me information about Vijay, the Indian film actor.', '', 'What can you tell me about Vijay, the prominent Tamil actor?', '', 'Information about Vijay, the South Indian film industry star.', '', 'Can you provide details about Vijay, the popular Kollywood actor?', '', 'Find me documents related to Vijay, the renowned Indian cinema personality.', '', 'These alternative questions aim to capture different aspects of the original query, such as:', '', '* Adding specific details (e.g., \"Indian film actor\")', '* Using alternative language (e.g., \"prominent Tamil actor\")', '* Focusing on a particular aspect (e.g., \"South Indian film industry star\")', '* Using synonyms (e.g., \"popular Kollywood actor\")', '* Emphasizing a different perspective (e.g., \"renowned Indian cinema personality\")', '', 'By generating these alternative questions, we can increase the chances of retrieving relevant documents that might have been missed by the original query.']\n"
     ]
    },
    {
     "name": "stderr",
     "output_type": "stream",
     "text": [
      "Number of requested results 4 is greater than number of elements in index 2, updating n_results = 2\n",
      "Number of requested results 4 is greater than number of elements in index 2, updating n_results = 2\n",
      "Number of requested results 4 is greater than number of elements in index 2, updating n_results = 2\n",
      "Number of requested results 4 is greater than number of elements in index 2, updating n_results = 2\n",
      "Number of requested results 4 is greater than number of elements in index 2, updating n_results = 2\n",
      "Number of requested results 4 is greater than number of elements in index 2, updating n_results = 2\n",
      "Number of requested results 4 is greater than number of elements in index 2, updating n_results = 2\n",
      "Number of requested results 4 is greater than number of elements in index 2, updating n_results = 2\n",
      "Number of requested results 4 is greater than number of elements in index 2, updating n_results = 2\n",
      "Number of requested results 4 is greater than number of elements in index 2, updating n_results = 2\n",
      "Number of requested results 4 is greater than number of elements in index 2, updating n_results = 2\n",
      "Number of requested results 4 is greater than number of elements in index 2, updating n_results = 2\n",
      "Number of requested results 4 is greater than number of elements in index 2, updating n_results = 2\n"
     ]
    },
    {
     "name": "stdout",
     "output_type": "stream",
     "text": [
      "Retriveal chain response===========> {'input': 'give me some information about vijay', 'context': [[Document(metadata={'page': 0, 'page_label': '1', 'source': 'C:\\\\Users\\\\my pc\\\\Downloads\\\\Vijaya Gunji report  (3).pdf'}, page_content='Result : \\nCourse Name : \\nCourse Duration : \\nParticipant Name : \\nParticipant Email ID : \\n% of TOC read :\\nACTIVITY DETAILS OF PARTICIPANT\\nCourse Type : \\nReport Generated At : \\nParticipant Unique ID :\\nGrade Obtained :\\nActivity\\nType\\nActivity\\nName\\nAttempt No Total Marks Pass Marks/\\nCutOff\\nMarks\\nObtained\\nGrade Activity\\nAttempted\\nActivity\\nStatus\\nAssignment\\nLink\\nAssessment Assessment_\\nCSI\\n1 30.0 20 30.0 NA Completed Pass N.A.\\nAssessment Assessment_\\nService\\nDesign\\n1 30.0 20 30.0 NA Completed Pass N.A.\\nAssessment ITIL Final\\nAssessment\\n1 100.0 80 88.0 NA Completed Pass N.A.\\nAssessment Assessment_\\nService\\nOperation\\n1 70.0 40 70.0 NA Completed Pass N.A.\\nAssessment Assessment_\\nService\\nStrategy\\n1 30.0 20 20.0 NA Completed Pass N.A.\\nAssessment Assessment_\\nITIL\\nIntroduction\\n1 30.0 20 20.0 NA Completed Pass N.A.\\nAssessment Assessment_\\nService\\nTransition\\n1 30.0 20 30.0 NA Completed Pass N.A.\\nB\\n01 Mar 2025 11:26 AM\\nCLP - RiO - Application Operation Competency - E0 - SP Batch 7\\nSelf Paced\\n88.0 %\\nVijaya Gunji\\nPass\\n2476596'), Document(metadata={'page': 0, 'page_label': '1', 'source': 'C:\\\\Users\\\\my pc\\\\Downloads\\\\Vijaya Gunji report  (3).pdf'}, page_content='Self Paced\\n88.0 %\\nVijaya Gunji\\nPass\\n2476596\\n1095 Days\\nvijayaraju.gunji@tcs.com')], [Document(metadata={'page': 0, 'page_label': '1', 'source': 'C:\\\\Users\\\\my pc\\\\Downloads\\\\Vijaya Gunji report  (3).pdf'}, page_content='Result : \\nCourse Name : \\nCourse Duration : \\nParticipant Name : \\nParticipant Email ID : \\n% of TOC read :\\nACTIVITY DETAILS OF PARTICIPANT\\nCourse Type : \\nReport Generated At : \\nParticipant Unique ID :\\nGrade Obtained :\\nActivity\\nType\\nActivity\\nName\\nAttempt No Total Marks Pass Marks/\\nCutOff\\nMarks\\nObtained\\nGrade Activity\\nAttempted\\nActivity\\nStatus\\nAssignment\\nLink\\nAssessment Assessment_\\nCSI\\n1 30.0 20 30.0 NA Completed Pass N.A.\\nAssessment Assessment_\\nService\\nDesign\\n1 30.0 20 30.0 NA Completed Pass N.A.\\nAssessment ITIL Final\\nAssessment\\n1 100.0 80 88.0 NA Completed Pass N.A.\\nAssessment Assessment_\\nService\\nOperation\\n1 70.0 40 70.0 NA Completed Pass N.A.\\nAssessment Assessment_\\nService\\nStrategy\\n1 30.0 20 20.0 NA Completed Pass N.A.\\nAssessment Assessment_\\nITIL\\nIntroduction\\n1 30.0 20 20.0 NA Completed Pass N.A.\\nAssessment Assessment_\\nService\\nTransition\\n1 30.0 20 30.0 NA Completed Pass N.A.\\nB\\n01 Mar 2025 11:26 AM\\nCLP - RiO - Application Operation Competency - E0 - SP Batch 7\\nSelf Paced\\n88.0 %\\nVijaya Gunji\\nPass\\n2476596'), Document(metadata={'page': 0, 'page_label': '1', 'source': 'C:\\\\Users\\\\my pc\\\\Downloads\\\\Vijaya Gunji report  (3).pdf'}, page_content='Self Paced\\n88.0 %\\nVijaya Gunji\\nPass\\n2476596\\n1095 Days\\nvijayaraju.gunji@tcs.com')], [Document(metadata={'page': 0, 'page_label': '1', 'source': 'C:\\\\Users\\\\my pc\\\\Downloads\\\\Vijaya Gunji report  (3).pdf'}, page_content='Result : \\nCourse Name : \\nCourse Duration : \\nParticipant Name : \\nParticipant Email ID : \\n% of TOC read :\\nACTIVITY DETAILS OF PARTICIPANT\\nCourse Type : \\nReport Generated At : \\nParticipant Unique ID :\\nGrade Obtained :\\nActivity\\nType\\nActivity\\nName\\nAttempt No Total Marks Pass Marks/\\nCutOff\\nMarks\\nObtained\\nGrade Activity\\nAttempted\\nActivity\\nStatus\\nAssignment\\nLink\\nAssessment Assessment_\\nCSI\\n1 30.0 20 30.0 NA Completed Pass N.A.\\nAssessment Assessment_\\nService\\nDesign\\n1 30.0 20 30.0 NA Completed Pass N.A.\\nAssessment ITIL Final\\nAssessment\\n1 100.0 80 88.0 NA Completed Pass N.A.\\nAssessment Assessment_\\nService\\nOperation\\n1 70.0 40 70.0 NA Completed Pass N.A.\\nAssessment Assessment_\\nService\\nStrategy\\n1 30.0 20 20.0 NA Completed Pass N.A.\\nAssessment Assessment_\\nITIL\\nIntroduction\\n1 30.0 20 20.0 NA Completed Pass N.A.\\nAssessment Assessment_\\nService\\nTransition\\n1 30.0 20 30.0 NA Completed Pass N.A.\\nB\\n01 Mar 2025 11:26 AM\\nCLP - RiO - Application Operation Competency - E0 - SP Batch 7\\nSelf Paced\\n88.0 %\\nVijaya Gunji\\nPass\\n2476596'), Document(metadata={'page': 0, 'page_label': '1', 'source': 'C:\\\\Users\\\\my pc\\\\Downloads\\\\Vijaya Gunji report  (3).pdf'}, page_content='Self Paced\\n88.0 %\\nVijaya Gunji\\nPass\\n2476596\\n1095 Days\\nvijayaraju.gunji@tcs.com')], [Document(metadata={'page': 0, 'page_label': '1', 'source': 'C:\\\\Users\\\\my pc\\\\Downloads\\\\Vijaya Gunji report  (3).pdf'}, page_content='Result : \\nCourse Name : \\nCourse Duration : \\nParticipant Name : \\nParticipant Email ID : \\n% of TOC read :\\nACTIVITY DETAILS OF PARTICIPANT\\nCourse Type : \\nReport Generated At : \\nParticipant Unique ID :\\nGrade Obtained :\\nActivity\\nType\\nActivity\\nName\\nAttempt No Total Marks Pass Marks/\\nCutOff\\nMarks\\nObtained\\nGrade Activity\\nAttempted\\nActivity\\nStatus\\nAssignment\\nLink\\nAssessment Assessment_\\nCSI\\n1 30.0 20 30.0 NA Completed Pass N.A.\\nAssessment Assessment_\\nService\\nDesign\\n1 30.0 20 30.0 NA Completed Pass N.A.\\nAssessment ITIL Final\\nAssessment\\n1 100.0 80 88.0 NA Completed Pass N.A.\\nAssessment Assessment_\\nService\\nOperation\\n1 70.0 40 70.0 NA Completed Pass N.A.\\nAssessment Assessment_\\nService\\nStrategy\\n1 30.0 20 20.0 NA Completed Pass N.A.\\nAssessment Assessment_\\nITIL\\nIntroduction\\n1 30.0 20 20.0 NA Completed Pass N.A.\\nAssessment Assessment_\\nService\\nTransition\\n1 30.0 20 30.0 NA Completed Pass N.A.\\nB\\n01 Mar 2025 11:26 AM\\nCLP - RiO - Application Operation Competency - E0 - SP Batch 7\\nSelf Paced\\n88.0 %\\nVijaya Gunji\\nPass\\n2476596'), Document(metadata={'page': 0, 'page_label': '1', 'source': 'C:\\\\Users\\\\my pc\\\\Downloads\\\\Vijaya Gunji report  (3).pdf'}, page_content='Self Paced\\n88.0 %\\nVijaya Gunji\\nPass\\n2476596\\n1095 Days\\nvijayaraju.gunji@tcs.com')], [Document(metadata={'page': 0, 'page_label': '1', 'source': 'C:\\\\Users\\\\my pc\\\\Downloads\\\\Vijaya Gunji report  (3).pdf'}, page_content='Result : \\nCourse Name : \\nCourse Duration : \\nParticipant Name : \\nParticipant Email ID : \\n% of TOC read :\\nACTIVITY DETAILS OF PARTICIPANT\\nCourse Type : \\nReport Generated At : \\nParticipant Unique ID :\\nGrade Obtained :\\nActivity\\nType\\nActivity\\nName\\nAttempt No Total Marks Pass Marks/\\nCutOff\\nMarks\\nObtained\\nGrade Activity\\nAttempted\\nActivity\\nStatus\\nAssignment\\nLink\\nAssessment Assessment_\\nCSI\\n1 30.0 20 30.0 NA Completed Pass N.A.\\nAssessment Assessment_\\nService\\nDesign\\n1 30.0 20 30.0 NA Completed Pass N.A.\\nAssessment ITIL Final\\nAssessment\\n1 100.0 80 88.0 NA Completed Pass N.A.\\nAssessment Assessment_\\nService\\nOperation\\n1 70.0 40 70.0 NA Completed Pass N.A.\\nAssessment Assessment_\\nService\\nStrategy\\n1 30.0 20 20.0 NA Completed Pass N.A.\\nAssessment Assessment_\\nITIL\\nIntroduction\\n1 30.0 20 20.0 NA Completed Pass N.A.\\nAssessment Assessment_\\nService\\nTransition\\n1 30.0 20 30.0 NA Completed Pass N.A.\\nB\\n01 Mar 2025 11:26 AM\\nCLP - RiO - Application Operation Competency - E0 - SP Batch 7\\nSelf Paced\\n88.0 %\\nVijaya Gunji\\nPass\\n2476596'), Document(metadata={'page': 0, 'page_label': '1', 'source': 'C:\\\\Users\\\\my pc\\\\Downloads\\\\Vijaya Gunji report  (3).pdf'}, page_content='Self Paced\\n88.0 %\\nVijaya Gunji\\nPass\\n2476596\\n1095 Days\\nvijayaraju.gunji@tcs.com')], [Document(metadata={'page': 0, 'page_label': '1', 'source': 'C:\\\\Users\\\\my pc\\\\Downloads\\\\Vijaya Gunji report  (3).pdf'}, page_content='Result : \\nCourse Name : \\nCourse Duration : \\nParticipant Name : \\nParticipant Email ID : \\n% of TOC read :\\nACTIVITY DETAILS OF PARTICIPANT\\nCourse Type : \\nReport Generated At : \\nParticipant Unique ID :\\nGrade Obtained :\\nActivity\\nType\\nActivity\\nName\\nAttempt No Total Marks Pass Marks/\\nCutOff\\nMarks\\nObtained\\nGrade Activity\\nAttempted\\nActivity\\nStatus\\nAssignment\\nLink\\nAssessment Assessment_\\nCSI\\n1 30.0 20 30.0 NA Completed Pass N.A.\\nAssessment Assessment_\\nService\\nDesign\\n1 30.0 20 30.0 NA Completed Pass N.A.\\nAssessment ITIL Final\\nAssessment\\n1 100.0 80 88.0 NA Completed Pass N.A.\\nAssessment Assessment_\\nService\\nOperation\\n1 70.0 40 70.0 NA Completed Pass N.A.\\nAssessment Assessment_\\nService\\nStrategy\\n1 30.0 20 20.0 NA Completed Pass N.A.\\nAssessment Assessment_\\nITIL\\nIntroduction\\n1 30.0 20 20.0 NA Completed Pass N.A.\\nAssessment Assessment_\\nService\\nTransition\\n1 30.0 20 30.0 NA Completed Pass N.A.\\nB\\n01 Mar 2025 11:26 AM\\nCLP - RiO - Application Operation Competency - E0 - SP Batch 7\\nSelf Paced\\n88.0 %\\nVijaya Gunji\\nPass\\n2476596'), Document(metadata={'page': 0, 'page_label': '1', 'source': 'C:\\\\Users\\\\my pc\\\\Downloads\\\\Vijaya Gunji report  (3).pdf'}, page_content='Self Paced\\n88.0 %\\nVijaya Gunji\\nPass\\n2476596\\n1095 Days\\nvijayaraju.gunji@tcs.com')], [Document(metadata={'page': 0, 'page_label': '1', 'source': 'C:\\\\Users\\\\my pc\\\\Downloads\\\\Vijaya Gunji report  (3).pdf'}, page_content='Result : \\nCourse Name : \\nCourse Duration : \\nParticipant Name : \\nParticipant Email ID : \\n% of TOC read :\\nACTIVITY DETAILS OF PARTICIPANT\\nCourse Type : \\nReport Generated At : \\nParticipant Unique ID :\\nGrade Obtained :\\nActivity\\nType\\nActivity\\nName\\nAttempt No Total Marks Pass Marks/\\nCutOff\\nMarks\\nObtained\\nGrade Activity\\nAttempted\\nActivity\\nStatus\\nAssignment\\nLink\\nAssessment Assessment_\\nCSI\\n1 30.0 20 30.0 NA Completed Pass N.A.\\nAssessment Assessment_\\nService\\nDesign\\n1 30.0 20 30.0 NA Completed Pass N.A.\\nAssessment ITIL Final\\nAssessment\\n1 100.0 80 88.0 NA Completed Pass N.A.\\nAssessment Assessment_\\nService\\nOperation\\n1 70.0 40 70.0 NA Completed Pass N.A.\\nAssessment Assessment_\\nService\\nStrategy\\n1 30.0 20 20.0 NA Completed Pass N.A.\\nAssessment Assessment_\\nITIL\\nIntroduction\\n1 30.0 20 20.0 NA Completed Pass N.A.\\nAssessment Assessment_\\nService\\nTransition\\n1 30.0 20 30.0 NA Completed Pass N.A.\\nB\\n01 Mar 2025 11:26 AM\\nCLP - RiO - Application Operation Competency - E0 - SP Batch 7\\nSelf Paced\\n88.0 %\\nVijaya Gunji\\nPass\\n2476596'), Document(metadata={'page': 0, 'page_label': '1', 'source': 'C:\\\\Users\\\\my pc\\\\Downloads\\\\Vijaya Gunji report  (3).pdf'}, page_content='Self Paced\\n88.0 %\\nVijaya Gunji\\nPass\\n2476596\\n1095 Days\\nvijayaraju.gunji@tcs.com')], [Document(metadata={'page': 0, 'page_label': '1', 'source': 'C:\\\\Users\\\\my pc\\\\Downloads\\\\Vijaya Gunji report  (3).pdf'}, page_content='Self Paced\\n88.0 %\\nVijaya Gunji\\nPass\\n2476596\\n1095 Days\\nvijayaraju.gunji@tcs.com'), Document(metadata={'page': 0, 'page_label': '1', 'source': 'C:\\\\Users\\\\my pc\\\\Downloads\\\\Vijaya Gunji report  (3).pdf'}, page_content='Result : \\nCourse Name : \\nCourse Duration : \\nParticipant Name : \\nParticipant Email ID : \\n% of TOC read :\\nACTIVITY DETAILS OF PARTICIPANT\\nCourse Type : \\nReport Generated At : \\nParticipant Unique ID :\\nGrade Obtained :\\nActivity\\nType\\nActivity\\nName\\nAttempt No Total Marks Pass Marks/\\nCutOff\\nMarks\\nObtained\\nGrade Activity\\nAttempted\\nActivity\\nStatus\\nAssignment\\nLink\\nAssessment Assessment_\\nCSI\\n1 30.0 20 30.0 NA Completed Pass N.A.\\nAssessment Assessment_\\nService\\nDesign\\n1 30.0 20 30.0 NA Completed Pass N.A.\\nAssessment ITIL Final\\nAssessment\\n1 100.0 80 88.0 NA Completed Pass N.A.\\nAssessment Assessment_\\nService\\nOperation\\n1 70.0 40 70.0 NA Completed Pass N.A.\\nAssessment Assessment_\\nService\\nStrategy\\n1 30.0 20 20.0 NA Completed Pass N.A.\\nAssessment Assessment_\\nITIL\\nIntroduction\\n1 30.0 20 20.0 NA Completed Pass N.A.\\nAssessment Assessment_\\nService\\nTransition\\n1 30.0 20 30.0 NA Completed Pass N.A.\\nB\\n01 Mar 2025 11:26 AM\\nCLP - RiO - Application Operation Competency - E0 - SP Batch 7\\nSelf Paced\\n88.0 %\\nVijaya Gunji\\nPass\\n2476596')], [Document(metadata={'page': 0, 'page_label': '1', 'source': 'C:\\\\Users\\\\my pc\\\\Downloads\\\\Vijaya Gunji report  (3).pdf'}, page_content='Result : \\nCourse Name : \\nCourse Duration : \\nParticipant Name : \\nParticipant Email ID : \\n% of TOC read :\\nACTIVITY DETAILS OF PARTICIPANT\\nCourse Type : \\nReport Generated At : \\nParticipant Unique ID :\\nGrade Obtained :\\nActivity\\nType\\nActivity\\nName\\nAttempt No Total Marks Pass Marks/\\nCutOff\\nMarks\\nObtained\\nGrade Activity\\nAttempted\\nActivity\\nStatus\\nAssignment\\nLink\\nAssessment Assessment_\\nCSI\\n1 30.0 20 30.0 NA Completed Pass N.A.\\nAssessment Assessment_\\nService\\nDesign\\n1 30.0 20 30.0 NA Completed Pass N.A.\\nAssessment ITIL Final\\nAssessment\\n1 100.0 80 88.0 NA Completed Pass N.A.\\nAssessment Assessment_\\nService\\nOperation\\n1 70.0 40 70.0 NA Completed Pass N.A.\\nAssessment Assessment_\\nService\\nStrategy\\n1 30.0 20 20.0 NA Completed Pass N.A.\\nAssessment Assessment_\\nITIL\\nIntroduction\\n1 30.0 20 20.0 NA Completed Pass N.A.\\nAssessment Assessment_\\nService\\nTransition\\n1 30.0 20 30.0 NA Completed Pass N.A.\\nB\\n01 Mar 2025 11:26 AM\\nCLP - RiO - Application Operation Competency - E0 - SP Batch 7\\nSelf Paced\\n88.0 %\\nVijaya Gunji\\nPass\\n2476596'), Document(metadata={'page': 0, 'page_label': '1', 'source': 'C:\\\\Users\\\\my pc\\\\Downloads\\\\Vijaya Gunji report  (3).pdf'}, page_content='Self Paced\\n88.0 %\\nVijaya Gunji\\nPass\\n2476596\\n1095 Days\\nvijayaraju.gunji@tcs.com')], [Document(metadata={'page': 0, 'page_label': '1', 'source': 'C:\\\\Users\\\\my pc\\\\Downloads\\\\Vijaya Gunji report  (3).pdf'}, page_content='Self Paced\\n88.0 %\\nVijaya Gunji\\nPass\\n2476596\\n1095 Days\\nvijayaraju.gunji@tcs.com'), Document(metadata={'page': 0, 'page_label': '1', 'source': 'C:\\\\Users\\\\my pc\\\\Downloads\\\\Vijaya Gunji report  (3).pdf'}, page_content='Result : \\nCourse Name : \\nCourse Duration : \\nParticipant Name : \\nParticipant Email ID : \\n% of TOC read :\\nACTIVITY DETAILS OF PARTICIPANT\\nCourse Type : \\nReport Generated At : \\nParticipant Unique ID :\\nGrade Obtained :\\nActivity\\nType\\nActivity\\nName\\nAttempt No Total Marks Pass Marks/\\nCutOff\\nMarks\\nObtained\\nGrade Activity\\nAttempted\\nActivity\\nStatus\\nAssignment\\nLink\\nAssessment Assessment_\\nCSI\\n1 30.0 20 30.0 NA Completed Pass N.A.\\nAssessment Assessment_\\nService\\nDesign\\n1 30.0 20 30.0 NA Completed Pass N.A.\\nAssessment ITIL Final\\nAssessment\\n1 100.0 80 88.0 NA Completed Pass N.A.\\nAssessment Assessment_\\nService\\nOperation\\n1 70.0 40 70.0 NA Completed Pass N.A.\\nAssessment Assessment_\\nService\\nStrategy\\n1 30.0 20 20.0 NA Completed Pass N.A.\\nAssessment Assessment_\\nITIL\\nIntroduction\\n1 30.0 20 20.0 NA Completed Pass N.A.\\nAssessment Assessment_\\nService\\nTransition\\n1 30.0 20 30.0 NA Completed Pass N.A.\\nB\\n01 Mar 2025 11:26 AM\\nCLP - RiO - Application Operation Competency - E0 - SP Batch 7\\nSelf Paced\\n88.0 %\\nVijaya Gunji\\nPass\\n2476596')], [Document(metadata={'page': 0, 'page_label': '1', 'source': 'C:\\\\Users\\\\my pc\\\\Downloads\\\\Vijaya Gunji report  (3).pdf'}, page_content='Result : \\nCourse Name : \\nCourse Duration : \\nParticipant Name : \\nParticipant Email ID : \\n% of TOC read :\\nACTIVITY DETAILS OF PARTICIPANT\\nCourse Type : \\nReport Generated At : \\nParticipant Unique ID :\\nGrade Obtained :\\nActivity\\nType\\nActivity\\nName\\nAttempt No Total Marks Pass Marks/\\nCutOff\\nMarks\\nObtained\\nGrade Activity\\nAttempted\\nActivity\\nStatus\\nAssignment\\nLink\\nAssessment Assessment_\\nCSI\\n1 30.0 20 30.0 NA Completed Pass N.A.\\nAssessment Assessment_\\nService\\nDesign\\n1 30.0 20 30.0 NA Completed Pass N.A.\\nAssessment ITIL Final\\nAssessment\\n1 100.0 80 88.0 NA Completed Pass N.A.\\nAssessment Assessment_\\nService\\nOperation\\n1 70.0 40 70.0 NA Completed Pass N.A.\\nAssessment Assessment_\\nService\\nStrategy\\n1 30.0 20 20.0 NA Completed Pass N.A.\\nAssessment Assessment_\\nITIL\\nIntroduction\\n1 30.0 20 20.0 NA Completed Pass N.A.\\nAssessment Assessment_\\nService\\nTransition\\n1 30.0 20 30.0 NA Completed Pass N.A.\\nB\\n01 Mar 2025 11:26 AM\\nCLP - RiO - Application Operation Competency - E0 - SP Batch 7\\nSelf Paced\\n88.0 %\\nVijaya Gunji\\nPass\\n2476596'), Document(metadata={'page': 0, 'page_label': '1', 'source': 'C:\\\\Users\\\\my pc\\\\Downloads\\\\Vijaya Gunji report  (3).pdf'}, page_content='Self Paced\\n88.0 %\\nVijaya Gunji\\nPass\\n2476596\\n1095 Days\\nvijayaraju.gunji@tcs.com')], [Document(metadata={'page': 0, 'page_label': '1', 'source': 'C:\\\\Users\\\\my pc\\\\Downloads\\\\Vijaya Gunji report  (3).pdf'}, page_content='Result : \\nCourse Name : \\nCourse Duration : \\nParticipant Name : \\nParticipant Email ID : \\n% of TOC read :\\nACTIVITY DETAILS OF PARTICIPANT\\nCourse Type : \\nReport Generated At : \\nParticipant Unique ID :\\nGrade Obtained :\\nActivity\\nType\\nActivity\\nName\\nAttempt No Total Marks Pass Marks/\\nCutOff\\nMarks\\nObtained\\nGrade Activity\\nAttempted\\nActivity\\nStatus\\nAssignment\\nLink\\nAssessment Assessment_\\nCSI\\n1 30.0 20 30.0 NA Completed Pass N.A.\\nAssessment Assessment_\\nService\\nDesign\\n1 30.0 20 30.0 NA Completed Pass N.A.\\nAssessment ITIL Final\\nAssessment\\n1 100.0 80 88.0 NA Completed Pass N.A.\\nAssessment Assessment_\\nService\\nOperation\\n1 70.0 40 70.0 NA Completed Pass N.A.\\nAssessment Assessment_\\nService\\nStrategy\\n1 30.0 20 20.0 NA Completed Pass N.A.\\nAssessment Assessment_\\nITIL\\nIntroduction\\n1 30.0 20 20.0 NA Completed Pass N.A.\\nAssessment Assessment_\\nService\\nTransition\\n1 30.0 20 30.0 NA Completed Pass N.A.\\nB\\n01 Mar 2025 11:26 AM\\nCLP - RiO - Application Operation Competency - E0 - SP Batch 7\\nSelf Paced\\n88.0 %\\nVijaya Gunji\\nPass\\n2476596'), Document(metadata={'page': 0, 'page_label': '1', 'source': 'C:\\\\Users\\\\my pc\\\\Downloads\\\\Vijaya Gunji report  (3).pdf'}, page_content='Self Paced\\n88.0 %\\nVijaya Gunji\\nPass\\n2476596\\n1095 Days\\nvijayaraju.gunji@tcs.com')], [Document(metadata={'page': 0, 'page_label': '1', 'source': 'C:\\\\Users\\\\my pc\\\\Downloads\\\\Vijaya Gunji report  (3).pdf'}, page_content='Result : \\nCourse Name : \\nCourse Duration : \\nParticipant Name : \\nParticipant Email ID : \\n% of TOC read :\\nACTIVITY DETAILS OF PARTICIPANT\\nCourse Type : \\nReport Generated At : \\nParticipant Unique ID :\\nGrade Obtained :\\nActivity\\nType\\nActivity\\nName\\nAttempt No Total Marks Pass Marks/\\nCutOff\\nMarks\\nObtained\\nGrade Activity\\nAttempted\\nActivity\\nStatus\\nAssignment\\nLink\\nAssessment Assessment_\\nCSI\\n1 30.0 20 30.0 NA Completed Pass N.A.\\nAssessment Assessment_\\nService\\nDesign\\n1 30.0 20 30.0 NA Completed Pass N.A.\\nAssessment ITIL Final\\nAssessment\\n1 100.0 80 88.0 NA Completed Pass N.A.\\nAssessment Assessment_\\nService\\nOperation\\n1 70.0 40 70.0 NA Completed Pass N.A.\\nAssessment Assessment_\\nService\\nStrategy\\n1 30.0 20 20.0 NA Completed Pass N.A.\\nAssessment Assessment_\\nITIL\\nIntroduction\\n1 30.0 20 20.0 NA Completed Pass N.A.\\nAssessment Assessment_\\nService\\nTransition\\n1 30.0 20 30.0 NA Completed Pass N.A.\\nB\\n01 Mar 2025 11:26 AM\\nCLP - RiO - Application Operation Competency - E0 - SP Batch 7\\nSelf Paced\\n88.0 %\\nVijaya Gunji\\nPass\\n2476596'), Document(metadata={'page': 0, 'page_label': '1', 'source': 'C:\\\\Users\\\\my pc\\\\Downloads\\\\Vijaya Gunji report  (3).pdf'}, page_content='Self Paced\\n88.0 %\\nVijaya Gunji\\nPass\\n2476596\\n1095 Days\\nvijayaraju.gunji@tcs.com')]]}\n"
     ]
    },
    {
     "name": "stderr",
     "output_type": "stream",
     "text": [
      "Number of requested results 4 is greater than number of elements in index 2, updating n_results = 2\n",
      "Number of requested results 4 is greater than number of elements in index 2, updating n_results = 2\n",
      "Number of requested results 4 is greater than number of elements in index 2, updating n_results = 2\n",
      "Number of requested results 4 is greater than number of elements in index 2, updating n_results = 2\n",
      "Number of requested results 4 is greater than number of elements in index 2, updating n_results = 2\n",
      "Number of requested results 4 is greater than number of elements in index 2, updating n_results = 2\n",
      "Number of requested results 4 is greater than number of elements in index 2, updating n_results = 2\n",
      "Number of requested results 4 is greater than number of elements in index 2, updating n_results = 2\n",
      "Number of requested results 4 is greater than number of elements in index 2, updating n_results = 2\n",
      "Number of requested results 4 is greater than number of elements in index 2, updating n_results = 2\n",
      "Number of requested results 4 is greater than number of elements in index 2, updating n_results = 2\n",
      "Number of requested results 4 is greater than number of elements in index 2, updating n_results = 2\n",
      "Number of requested results 4 is greater than number of elements in index 2, updating n_results = 2\n",
      "Number of requested results 4 is greater than number of elements in index 2, updating n_results = 2\n",
      "Number of requested results 4 is greater than number of elements in index 2, updating n_results = 2\n",
      "Number of requested results 4 is greater than number of elements in index 2, updating n_results = 2\n",
      "Number of requested results 4 is greater than number of elements in index 2, updating n_results = 2\n",
      "Number of requested results 4 is greater than number of elements in index 2, updating n_results = 2\n"
     ]
    },
    {
     "name": "stdout",
     "output_type": "stream",
     "text": [
      "Rag chain response===========> {'input': 'give me some information about vijay', 'context': [[Document(metadata={'page': 0, 'page_label': '1', 'source': 'C:\\\\Users\\\\my pc\\\\Downloads\\\\Vijaya Gunji report  (3).pdf'}, page_content='Result : \\nCourse Name : \\nCourse Duration : \\nParticipant Name : \\nParticipant Email ID : \\n% of TOC read :\\nACTIVITY DETAILS OF PARTICIPANT\\nCourse Type : \\nReport Generated At : \\nParticipant Unique ID :\\nGrade Obtained :\\nActivity\\nType\\nActivity\\nName\\nAttempt No Total Marks Pass Marks/\\nCutOff\\nMarks\\nObtained\\nGrade Activity\\nAttempted\\nActivity\\nStatus\\nAssignment\\nLink\\nAssessment Assessment_\\nCSI\\n1 30.0 20 30.0 NA Completed Pass N.A.\\nAssessment Assessment_\\nService\\nDesign\\n1 30.0 20 30.0 NA Completed Pass N.A.\\nAssessment ITIL Final\\nAssessment\\n1 100.0 80 88.0 NA Completed Pass N.A.\\nAssessment Assessment_\\nService\\nOperation\\n1 70.0 40 70.0 NA Completed Pass N.A.\\nAssessment Assessment_\\nService\\nStrategy\\n1 30.0 20 20.0 NA Completed Pass N.A.\\nAssessment Assessment_\\nITIL\\nIntroduction\\n1 30.0 20 20.0 NA Completed Pass N.A.\\nAssessment Assessment_\\nService\\nTransition\\n1 30.0 20 30.0 NA Completed Pass N.A.\\nB\\n01 Mar 2025 11:26 AM\\nCLP - RiO - Application Operation Competency - E0 - SP Batch 7\\nSelf Paced\\n88.0 %\\nVijaya Gunji\\nPass\\n2476596'), Document(metadata={'page': 0, 'page_label': '1', 'source': 'C:\\\\Users\\\\my pc\\\\Downloads\\\\Vijaya Gunji report  (3).pdf'}, page_content='Self Paced\\n88.0 %\\nVijaya Gunji\\nPass\\n2476596\\n1095 Days\\nvijayaraju.gunji@tcs.com')], [Document(metadata={'page': 0, 'page_label': '1', 'source': 'C:\\\\Users\\\\my pc\\\\Downloads\\\\Vijaya Gunji report  (3).pdf'}, page_content='Result : \\nCourse Name : \\nCourse Duration : \\nParticipant Name : \\nParticipant Email ID : \\n% of TOC read :\\nACTIVITY DETAILS OF PARTICIPANT\\nCourse Type : \\nReport Generated At : \\nParticipant Unique ID :\\nGrade Obtained :\\nActivity\\nType\\nActivity\\nName\\nAttempt No Total Marks Pass Marks/\\nCutOff\\nMarks\\nObtained\\nGrade Activity\\nAttempted\\nActivity\\nStatus\\nAssignment\\nLink\\nAssessment Assessment_\\nCSI\\n1 30.0 20 30.0 NA Completed Pass N.A.\\nAssessment Assessment_\\nService\\nDesign\\n1 30.0 20 30.0 NA Completed Pass N.A.\\nAssessment ITIL Final\\nAssessment\\n1 100.0 80 88.0 NA Completed Pass N.A.\\nAssessment Assessment_\\nService\\nOperation\\n1 70.0 40 70.0 NA Completed Pass N.A.\\nAssessment Assessment_\\nService\\nStrategy\\n1 30.0 20 20.0 NA Completed Pass N.A.\\nAssessment Assessment_\\nITIL\\nIntroduction\\n1 30.0 20 20.0 NA Completed Pass N.A.\\nAssessment Assessment_\\nService\\nTransition\\n1 30.0 20 30.0 NA Completed Pass N.A.\\nB\\n01 Mar 2025 11:26 AM\\nCLP - RiO - Application Operation Competency - E0 - SP Batch 7\\nSelf Paced\\n88.0 %\\nVijaya Gunji\\nPass\\n2476596'), Document(metadata={'page': 0, 'page_label': '1', 'source': 'C:\\\\Users\\\\my pc\\\\Downloads\\\\Vijaya Gunji report  (3).pdf'}, page_content='Self Paced\\n88.0 %\\nVijaya Gunji\\nPass\\n2476596\\n1095 Days\\nvijayaraju.gunji@tcs.com')], [Document(metadata={'page': 0, 'page_label': '1', 'source': 'C:\\\\Users\\\\my pc\\\\Downloads\\\\Vijaya Gunji report  (3).pdf'}, page_content='Result : \\nCourse Name : \\nCourse Duration : \\nParticipant Name : \\nParticipant Email ID : \\n% of TOC read :\\nACTIVITY DETAILS OF PARTICIPANT\\nCourse Type : \\nReport Generated At : \\nParticipant Unique ID :\\nGrade Obtained :\\nActivity\\nType\\nActivity\\nName\\nAttempt No Total Marks Pass Marks/\\nCutOff\\nMarks\\nObtained\\nGrade Activity\\nAttempted\\nActivity\\nStatus\\nAssignment\\nLink\\nAssessment Assessment_\\nCSI\\n1 30.0 20 30.0 NA Completed Pass N.A.\\nAssessment Assessment_\\nService\\nDesign\\n1 30.0 20 30.0 NA Completed Pass N.A.\\nAssessment ITIL Final\\nAssessment\\n1 100.0 80 88.0 NA Completed Pass N.A.\\nAssessment Assessment_\\nService\\nOperation\\n1 70.0 40 70.0 NA Completed Pass N.A.\\nAssessment Assessment_\\nService\\nStrategy\\n1 30.0 20 20.0 NA Completed Pass N.A.\\nAssessment Assessment_\\nITIL\\nIntroduction\\n1 30.0 20 20.0 NA Completed Pass N.A.\\nAssessment Assessment_\\nService\\nTransition\\n1 30.0 20 30.0 NA Completed Pass N.A.\\nB\\n01 Mar 2025 11:26 AM\\nCLP - RiO - Application Operation Competency - E0 - SP Batch 7\\nSelf Paced\\n88.0 %\\nVijaya Gunji\\nPass\\n2476596'), Document(metadata={'page': 0, 'page_label': '1', 'source': 'C:\\\\Users\\\\my pc\\\\Downloads\\\\Vijaya Gunji report  (3).pdf'}, page_content='Self Paced\\n88.0 %\\nVijaya Gunji\\nPass\\n2476596\\n1095 Days\\nvijayaraju.gunji@tcs.com')], [Document(metadata={'page': 0, 'page_label': '1', 'source': 'C:\\\\Users\\\\my pc\\\\Downloads\\\\Vijaya Gunji report  (3).pdf'}, page_content='Self Paced\\n88.0 %\\nVijaya Gunji\\nPass\\n2476596\\n1095 Days\\nvijayaraju.gunji@tcs.com'), Document(metadata={'page': 0, 'page_label': '1', 'source': 'C:\\\\Users\\\\my pc\\\\Downloads\\\\Vijaya Gunji report  (3).pdf'}, page_content='Result : \\nCourse Name : \\nCourse Duration : \\nParticipant Name : \\nParticipant Email ID : \\n% of TOC read :\\nACTIVITY DETAILS OF PARTICIPANT\\nCourse Type : \\nReport Generated At : \\nParticipant Unique ID :\\nGrade Obtained :\\nActivity\\nType\\nActivity\\nName\\nAttempt No Total Marks Pass Marks/\\nCutOff\\nMarks\\nObtained\\nGrade Activity\\nAttempted\\nActivity\\nStatus\\nAssignment\\nLink\\nAssessment Assessment_\\nCSI\\n1 30.0 20 30.0 NA Completed Pass N.A.\\nAssessment Assessment_\\nService\\nDesign\\n1 30.0 20 30.0 NA Completed Pass N.A.\\nAssessment ITIL Final\\nAssessment\\n1 100.0 80 88.0 NA Completed Pass N.A.\\nAssessment Assessment_\\nService\\nOperation\\n1 70.0 40 70.0 NA Completed Pass N.A.\\nAssessment Assessment_\\nService\\nStrategy\\n1 30.0 20 20.0 NA Completed Pass N.A.\\nAssessment Assessment_\\nITIL\\nIntroduction\\n1 30.0 20 20.0 NA Completed Pass N.A.\\nAssessment Assessment_\\nService\\nTransition\\n1 30.0 20 30.0 NA Completed Pass N.A.\\nB\\n01 Mar 2025 11:26 AM\\nCLP - RiO - Application Operation Competency - E0 - SP Batch 7\\nSelf Paced\\n88.0 %\\nVijaya Gunji\\nPass\\n2476596')], [Document(metadata={'page': 0, 'page_label': '1', 'source': 'C:\\\\Users\\\\my pc\\\\Downloads\\\\Vijaya Gunji report  (3).pdf'}, page_content='Result : \\nCourse Name : \\nCourse Duration : \\nParticipant Name : \\nParticipant Email ID : \\n% of TOC read :\\nACTIVITY DETAILS OF PARTICIPANT\\nCourse Type : \\nReport Generated At : \\nParticipant Unique ID :\\nGrade Obtained :\\nActivity\\nType\\nActivity\\nName\\nAttempt No Total Marks Pass Marks/\\nCutOff\\nMarks\\nObtained\\nGrade Activity\\nAttempted\\nActivity\\nStatus\\nAssignment\\nLink\\nAssessment Assessment_\\nCSI\\n1 30.0 20 30.0 NA Completed Pass N.A.\\nAssessment Assessment_\\nService\\nDesign\\n1 30.0 20 30.0 NA Completed Pass N.A.\\nAssessment ITIL Final\\nAssessment\\n1 100.0 80 88.0 NA Completed Pass N.A.\\nAssessment Assessment_\\nService\\nOperation\\n1 70.0 40 70.0 NA Completed Pass N.A.\\nAssessment Assessment_\\nService\\nStrategy\\n1 30.0 20 20.0 NA Completed Pass N.A.\\nAssessment Assessment_\\nITIL\\nIntroduction\\n1 30.0 20 20.0 NA Completed Pass N.A.\\nAssessment Assessment_\\nService\\nTransition\\n1 30.0 20 30.0 NA Completed Pass N.A.\\nB\\n01 Mar 2025 11:26 AM\\nCLP - RiO - Application Operation Competency - E0 - SP Batch 7\\nSelf Paced\\n88.0 %\\nVijaya Gunji\\nPass\\n2476596'), Document(metadata={'page': 0, 'page_label': '1', 'source': 'C:\\\\Users\\\\my pc\\\\Downloads\\\\Vijaya Gunji report  (3).pdf'}, page_content='Self Paced\\n88.0 %\\nVijaya Gunji\\nPass\\n2476596\\n1095 Days\\nvijayaraju.gunji@tcs.com')], [Document(metadata={'page': 0, 'page_label': '1', 'source': 'C:\\\\Users\\\\my pc\\\\Downloads\\\\Vijaya Gunji report  (3).pdf'}, page_content='Result : \\nCourse Name : \\nCourse Duration : \\nParticipant Name : \\nParticipant Email ID : \\n% of TOC read :\\nACTIVITY DETAILS OF PARTICIPANT\\nCourse Type : \\nReport Generated At : \\nParticipant Unique ID :\\nGrade Obtained :\\nActivity\\nType\\nActivity\\nName\\nAttempt No Total Marks Pass Marks/\\nCutOff\\nMarks\\nObtained\\nGrade Activity\\nAttempted\\nActivity\\nStatus\\nAssignment\\nLink\\nAssessment Assessment_\\nCSI\\n1 30.0 20 30.0 NA Completed Pass N.A.\\nAssessment Assessment_\\nService\\nDesign\\n1 30.0 20 30.0 NA Completed Pass N.A.\\nAssessment ITIL Final\\nAssessment\\n1 100.0 80 88.0 NA Completed Pass N.A.\\nAssessment Assessment_\\nService\\nOperation\\n1 70.0 40 70.0 NA Completed Pass N.A.\\nAssessment Assessment_\\nService\\nStrategy\\n1 30.0 20 20.0 NA Completed Pass N.A.\\nAssessment Assessment_\\nITIL\\nIntroduction\\n1 30.0 20 20.0 NA Completed Pass N.A.\\nAssessment Assessment_\\nService\\nTransition\\n1 30.0 20 30.0 NA Completed Pass N.A.\\nB\\n01 Mar 2025 11:26 AM\\nCLP - RiO - Application Operation Competency - E0 - SP Batch 7\\nSelf Paced\\n88.0 %\\nVijaya Gunji\\nPass\\n2476596'), Document(metadata={'page': 0, 'page_label': '1', 'source': 'C:\\\\Users\\\\my pc\\\\Downloads\\\\Vijaya Gunji report  (3).pdf'}, page_content='Self Paced\\n88.0 %\\nVijaya Gunji\\nPass\\n2476596\\n1095 Days\\nvijayaraju.gunji@tcs.com')], [Document(metadata={'page': 0, 'page_label': '1', 'source': 'C:\\\\Users\\\\my pc\\\\Downloads\\\\Vijaya Gunji report  (3).pdf'}, page_content='Result : \\nCourse Name : \\nCourse Duration : \\nParticipant Name : \\nParticipant Email ID : \\n% of TOC read :\\nACTIVITY DETAILS OF PARTICIPANT\\nCourse Type : \\nReport Generated At : \\nParticipant Unique ID :\\nGrade Obtained :\\nActivity\\nType\\nActivity\\nName\\nAttempt No Total Marks Pass Marks/\\nCutOff\\nMarks\\nObtained\\nGrade Activity\\nAttempted\\nActivity\\nStatus\\nAssignment\\nLink\\nAssessment Assessment_\\nCSI\\n1 30.0 20 30.0 NA Completed Pass N.A.\\nAssessment Assessment_\\nService\\nDesign\\n1 30.0 20 30.0 NA Completed Pass N.A.\\nAssessment ITIL Final\\nAssessment\\n1 100.0 80 88.0 NA Completed Pass N.A.\\nAssessment Assessment_\\nService\\nOperation\\n1 70.0 40 70.0 NA Completed Pass N.A.\\nAssessment Assessment_\\nService\\nStrategy\\n1 30.0 20 20.0 NA Completed Pass N.A.\\nAssessment Assessment_\\nITIL\\nIntroduction\\n1 30.0 20 20.0 NA Completed Pass N.A.\\nAssessment Assessment_\\nService\\nTransition\\n1 30.0 20 30.0 NA Completed Pass N.A.\\nB\\n01 Mar 2025 11:26 AM\\nCLP - RiO - Application Operation Competency - E0 - SP Batch 7\\nSelf Paced\\n88.0 %\\nVijaya Gunji\\nPass\\n2476596'), Document(metadata={'page': 0, 'page_label': '1', 'source': 'C:\\\\Users\\\\my pc\\\\Downloads\\\\Vijaya Gunji report  (3).pdf'}, page_content='Self Paced\\n88.0 %\\nVijaya Gunji\\nPass\\n2476596\\n1095 Days\\nvijayaraju.gunji@tcs.com')], [Document(metadata={'page': 0, 'page_label': '1', 'source': 'C:\\\\Users\\\\my pc\\\\Downloads\\\\Vijaya Gunji report  (3).pdf'}, page_content='Result : \\nCourse Name : \\nCourse Duration : \\nParticipant Name : \\nParticipant Email ID : \\n% of TOC read :\\nACTIVITY DETAILS OF PARTICIPANT\\nCourse Type : \\nReport Generated At : \\nParticipant Unique ID :\\nGrade Obtained :\\nActivity\\nType\\nActivity\\nName\\nAttempt No Total Marks Pass Marks/\\nCutOff\\nMarks\\nObtained\\nGrade Activity\\nAttempted\\nActivity\\nStatus\\nAssignment\\nLink\\nAssessment Assessment_\\nCSI\\n1 30.0 20 30.0 NA Completed Pass N.A.\\nAssessment Assessment_\\nService\\nDesign\\n1 30.0 20 30.0 NA Completed Pass N.A.\\nAssessment ITIL Final\\nAssessment\\n1 100.0 80 88.0 NA Completed Pass N.A.\\nAssessment Assessment_\\nService\\nOperation\\n1 70.0 40 70.0 NA Completed Pass N.A.\\nAssessment Assessment_\\nService\\nStrategy\\n1 30.0 20 20.0 NA Completed Pass N.A.\\nAssessment Assessment_\\nITIL\\nIntroduction\\n1 30.0 20 20.0 NA Completed Pass N.A.\\nAssessment Assessment_\\nService\\nTransition\\n1 30.0 20 30.0 NA Completed Pass N.A.\\nB\\n01 Mar 2025 11:26 AM\\nCLP - RiO - Application Operation Competency - E0 - SP Batch 7\\nSelf Paced\\n88.0 %\\nVijaya Gunji\\nPass\\n2476596'), Document(metadata={'page': 0, 'page_label': '1', 'source': 'C:\\\\Users\\\\my pc\\\\Downloads\\\\Vijaya Gunji report  (3).pdf'}, page_content='Self Paced\\n88.0 %\\nVijaya Gunji\\nPass\\n2476596\\n1095 Days\\nvijayaraju.gunji@tcs.com')], [Document(metadata={'page': 0, 'page_label': '1', 'source': 'C:\\\\Users\\\\my pc\\\\Downloads\\\\Vijaya Gunji report  (3).pdf'}, page_content='Result : \\nCourse Name : \\nCourse Duration : \\nParticipant Name : \\nParticipant Email ID : \\n% of TOC read :\\nACTIVITY DETAILS OF PARTICIPANT\\nCourse Type : \\nReport Generated At : \\nParticipant Unique ID :\\nGrade Obtained :\\nActivity\\nType\\nActivity\\nName\\nAttempt No Total Marks Pass Marks/\\nCutOff\\nMarks\\nObtained\\nGrade Activity\\nAttempted\\nActivity\\nStatus\\nAssignment\\nLink\\nAssessment Assessment_\\nCSI\\n1 30.0 20 30.0 NA Completed Pass N.A.\\nAssessment Assessment_\\nService\\nDesign\\n1 30.0 20 30.0 NA Completed Pass N.A.\\nAssessment ITIL Final\\nAssessment\\n1 100.0 80 88.0 NA Completed Pass N.A.\\nAssessment Assessment_\\nService\\nOperation\\n1 70.0 40 70.0 NA Completed Pass N.A.\\nAssessment Assessment_\\nService\\nStrategy\\n1 30.0 20 20.0 NA Completed Pass N.A.\\nAssessment Assessment_\\nITIL\\nIntroduction\\n1 30.0 20 20.0 NA Completed Pass N.A.\\nAssessment Assessment_\\nService\\nTransition\\n1 30.0 20 30.0 NA Completed Pass N.A.\\nB\\n01 Mar 2025 11:26 AM\\nCLP - RiO - Application Operation Competency - E0 - SP Batch 7\\nSelf Paced\\n88.0 %\\nVijaya Gunji\\nPass\\n2476596'), Document(metadata={'page': 0, 'page_label': '1', 'source': 'C:\\\\Users\\\\my pc\\\\Downloads\\\\Vijaya Gunji report  (3).pdf'}, page_content='Self Paced\\n88.0 %\\nVijaya Gunji\\nPass\\n2476596\\n1095 Days\\nvijayaraju.gunji@tcs.com')], [Document(metadata={'page': 0, 'page_label': '1', 'source': 'C:\\\\Users\\\\my pc\\\\Downloads\\\\Vijaya Gunji report  (3).pdf'}, page_content='Result : \\nCourse Name : \\nCourse Duration : \\nParticipant Name : \\nParticipant Email ID : \\n% of TOC read :\\nACTIVITY DETAILS OF PARTICIPANT\\nCourse Type : \\nReport Generated At : \\nParticipant Unique ID :\\nGrade Obtained :\\nActivity\\nType\\nActivity\\nName\\nAttempt No Total Marks Pass Marks/\\nCutOff\\nMarks\\nObtained\\nGrade Activity\\nAttempted\\nActivity\\nStatus\\nAssignment\\nLink\\nAssessment Assessment_\\nCSI\\n1 30.0 20 30.0 NA Completed Pass N.A.\\nAssessment Assessment_\\nService\\nDesign\\n1 30.0 20 30.0 NA Completed Pass N.A.\\nAssessment ITIL Final\\nAssessment\\n1 100.0 80 88.0 NA Completed Pass N.A.\\nAssessment Assessment_\\nService\\nOperation\\n1 70.0 40 70.0 NA Completed Pass N.A.\\nAssessment Assessment_\\nService\\nStrategy\\n1 30.0 20 20.0 NA Completed Pass N.A.\\nAssessment Assessment_\\nITIL\\nIntroduction\\n1 30.0 20 20.0 NA Completed Pass N.A.\\nAssessment Assessment_\\nService\\nTransition\\n1 30.0 20 30.0 NA Completed Pass N.A.\\nB\\n01 Mar 2025 11:26 AM\\nCLP - RiO - Application Operation Competency - E0 - SP Batch 7\\nSelf Paced\\n88.0 %\\nVijaya Gunji\\nPass\\n2476596'), Document(metadata={'page': 0, 'page_label': '1', 'source': 'C:\\\\Users\\\\my pc\\\\Downloads\\\\Vijaya Gunji report  (3).pdf'}, page_content='Self Paced\\n88.0 %\\nVijaya Gunji\\nPass\\n2476596\\n1095 Days\\nvijayaraju.gunji@tcs.com')], [Document(metadata={'page': 0, 'page_label': '1', 'source': 'C:\\\\Users\\\\my pc\\\\Downloads\\\\Vijaya Gunji report  (3).pdf'}, page_content='Result : \\nCourse Name : \\nCourse Duration : \\nParticipant Name : \\nParticipant Email ID : \\n% of TOC read :\\nACTIVITY DETAILS OF PARTICIPANT\\nCourse Type : \\nReport Generated At : \\nParticipant Unique ID :\\nGrade Obtained :\\nActivity\\nType\\nActivity\\nName\\nAttempt No Total Marks Pass Marks/\\nCutOff\\nMarks\\nObtained\\nGrade Activity\\nAttempted\\nActivity\\nStatus\\nAssignment\\nLink\\nAssessment Assessment_\\nCSI\\n1 30.0 20 30.0 NA Completed Pass N.A.\\nAssessment Assessment_\\nService\\nDesign\\n1 30.0 20 30.0 NA Completed Pass N.A.\\nAssessment ITIL Final\\nAssessment\\n1 100.0 80 88.0 NA Completed Pass N.A.\\nAssessment Assessment_\\nService\\nOperation\\n1 70.0 40 70.0 NA Completed Pass N.A.\\nAssessment Assessment_\\nService\\nStrategy\\n1 30.0 20 20.0 NA Completed Pass N.A.\\nAssessment Assessment_\\nITIL\\nIntroduction\\n1 30.0 20 20.0 NA Completed Pass N.A.\\nAssessment Assessment_\\nService\\nTransition\\n1 30.0 20 30.0 NA Completed Pass N.A.\\nB\\n01 Mar 2025 11:26 AM\\nCLP - RiO - Application Operation Competency - E0 - SP Batch 7\\nSelf Paced\\n88.0 %\\nVijaya Gunji\\nPass\\n2476596'), Document(metadata={'page': 0, 'page_label': '1', 'source': 'C:\\\\Users\\\\my pc\\\\Downloads\\\\Vijaya Gunji report  (3).pdf'}, page_content='Self Paced\\n88.0 %\\nVijaya Gunji\\nPass\\n2476596\\n1095 Days\\nvijayaraju.gunji@tcs.com')], [Document(metadata={'page': 0, 'page_label': '1', 'source': 'C:\\\\Users\\\\my pc\\\\Downloads\\\\Vijaya Gunji report  (3).pdf'}, page_content='Result : \\nCourse Name : \\nCourse Duration : \\nParticipant Name : \\nParticipant Email ID : \\n% of TOC read :\\nACTIVITY DETAILS OF PARTICIPANT\\nCourse Type : \\nReport Generated At : \\nParticipant Unique ID :\\nGrade Obtained :\\nActivity\\nType\\nActivity\\nName\\nAttempt No Total Marks Pass Marks/\\nCutOff\\nMarks\\nObtained\\nGrade Activity\\nAttempted\\nActivity\\nStatus\\nAssignment\\nLink\\nAssessment Assessment_\\nCSI\\n1 30.0 20 30.0 NA Completed Pass N.A.\\nAssessment Assessment_\\nService\\nDesign\\n1 30.0 20 30.0 NA Completed Pass N.A.\\nAssessment ITIL Final\\nAssessment\\n1 100.0 80 88.0 NA Completed Pass N.A.\\nAssessment Assessment_\\nService\\nOperation\\n1 70.0 40 70.0 NA Completed Pass N.A.\\nAssessment Assessment_\\nService\\nStrategy\\n1 30.0 20 20.0 NA Completed Pass N.A.\\nAssessment Assessment_\\nITIL\\nIntroduction\\n1 30.0 20 20.0 NA Completed Pass N.A.\\nAssessment Assessment_\\nService\\nTransition\\n1 30.0 20 30.0 NA Completed Pass N.A.\\nB\\n01 Mar 2025 11:26 AM\\nCLP - RiO - Application Operation Competency - E0 - SP Batch 7\\nSelf Paced\\n88.0 %\\nVijaya Gunji\\nPass\\n2476596'), Document(metadata={'page': 0, 'page_label': '1', 'source': 'C:\\\\Users\\\\my pc\\\\Downloads\\\\Vijaya Gunji report  (3).pdf'}, page_content='Self Paced\\n88.0 %\\nVijaya Gunji\\nPass\\n2476596\\n1095 Days\\nvijayaraju.gunji@tcs.com')], [Document(metadata={'page': 0, 'page_label': '1', 'source': 'C:\\\\Users\\\\my pc\\\\Downloads\\\\Vijaya Gunji report  (3).pdf'}, page_content='Result : \\nCourse Name : \\nCourse Duration : \\nParticipant Name : \\nParticipant Email ID : \\n% of TOC read :\\nACTIVITY DETAILS OF PARTICIPANT\\nCourse Type : \\nReport Generated At : \\nParticipant Unique ID :\\nGrade Obtained :\\nActivity\\nType\\nActivity\\nName\\nAttempt No Total Marks Pass Marks/\\nCutOff\\nMarks\\nObtained\\nGrade Activity\\nAttempted\\nActivity\\nStatus\\nAssignment\\nLink\\nAssessment Assessment_\\nCSI\\n1 30.0 20 30.0 NA Completed Pass N.A.\\nAssessment Assessment_\\nService\\nDesign\\n1 30.0 20 30.0 NA Completed Pass N.A.\\nAssessment ITIL Final\\nAssessment\\n1 100.0 80 88.0 NA Completed Pass N.A.\\nAssessment Assessment_\\nService\\nOperation\\n1 70.0 40 70.0 NA Completed Pass N.A.\\nAssessment Assessment_\\nService\\nStrategy\\n1 30.0 20 20.0 NA Completed Pass N.A.\\nAssessment Assessment_\\nITIL\\nIntroduction\\n1 30.0 20 20.0 NA Completed Pass N.A.\\nAssessment Assessment_\\nService\\nTransition\\n1 30.0 20 30.0 NA Completed Pass N.A.\\nB\\n01 Mar 2025 11:26 AM\\nCLP - RiO - Application Operation Competency - E0 - SP Batch 7\\nSelf Paced\\n88.0 %\\nVijaya Gunji\\nPass\\n2476596'), Document(metadata={'page': 0, 'page_label': '1', 'source': 'C:\\\\Users\\\\my pc\\\\Downloads\\\\Vijaya Gunji report  (3).pdf'}, page_content='Self Paced\\n88.0 %\\nVijaya Gunji\\nPass\\n2476596\\n1095 Days\\nvijayaraju.gunji@tcs.com')], [Document(metadata={'page': 0, 'page_label': '1', 'source': 'C:\\\\Users\\\\my pc\\\\Downloads\\\\Vijaya Gunji report  (3).pdf'}, page_content='Result : \\nCourse Name : \\nCourse Duration : \\nParticipant Name : \\nParticipant Email ID : \\n% of TOC read :\\nACTIVITY DETAILS OF PARTICIPANT\\nCourse Type : \\nReport Generated At : \\nParticipant Unique ID :\\nGrade Obtained :\\nActivity\\nType\\nActivity\\nName\\nAttempt No Total Marks Pass Marks/\\nCutOff\\nMarks\\nObtained\\nGrade Activity\\nAttempted\\nActivity\\nStatus\\nAssignment\\nLink\\nAssessment Assessment_\\nCSI\\n1 30.0 20 30.0 NA Completed Pass N.A.\\nAssessment Assessment_\\nService\\nDesign\\n1 30.0 20 30.0 NA Completed Pass N.A.\\nAssessment ITIL Final\\nAssessment\\n1 100.0 80 88.0 NA Completed Pass N.A.\\nAssessment Assessment_\\nService\\nOperation\\n1 70.0 40 70.0 NA Completed Pass N.A.\\nAssessment Assessment_\\nService\\nStrategy\\n1 30.0 20 20.0 NA Completed Pass N.A.\\nAssessment Assessment_\\nITIL\\nIntroduction\\n1 30.0 20 20.0 NA Completed Pass N.A.\\nAssessment Assessment_\\nService\\nTransition\\n1 30.0 20 30.0 NA Completed Pass N.A.\\nB\\n01 Mar 2025 11:26 AM\\nCLP - RiO - Application Operation Competency - E0 - SP Batch 7\\nSelf Paced\\n88.0 %\\nVijaya Gunji\\nPass\\n2476596'), Document(metadata={'page': 0, 'page_label': '1', 'source': 'C:\\\\Users\\\\my pc\\\\Downloads\\\\Vijaya Gunji report  (3).pdf'}, page_content='Self Paced\\n88.0 %\\nVijaya Gunji\\nPass\\n2476596\\n1095 Days\\nvijayaraju.gunji@tcs.com')], [Document(metadata={'page': 0, 'page_label': '1', 'source': 'C:\\\\Users\\\\my pc\\\\Downloads\\\\Vijaya Gunji report  (3).pdf'}, page_content='Result : \\nCourse Name : \\nCourse Duration : \\nParticipant Name : \\nParticipant Email ID : \\n% of TOC read :\\nACTIVITY DETAILS OF PARTICIPANT\\nCourse Type : \\nReport Generated At : \\nParticipant Unique ID :\\nGrade Obtained :\\nActivity\\nType\\nActivity\\nName\\nAttempt No Total Marks Pass Marks/\\nCutOff\\nMarks\\nObtained\\nGrade Activity\\nAttempted\\nActivity\\nStatus\\nAssignment\\nLink\\nAssessment Assessment_\\nCSI\\n1 30.0 20 30.0 NA Completed Pass N.A.\\nAssessment Assessment_\\nService\\nDesign\\n1 30.0 20 30.0 NA Completed Pass N.A.\\nAssessment ITIL Final\\nAssessment\\n1 100.0 80 88.0 NA Completed Pass N.A.\\nAssessment Assessment_\\nService\\nOperation\\n1 70.0 40 70.0 NA Completed Pass N.A.\\nAssessment Assessment_\\nService\\nStrategy\\n1 30.0 20 20.0 NA Completed Pass N.A.\\nAssessment Assessment_\\nITIL\\nIntroduction\\n1 30.0 20 20.0 NA Completed Pass N.A.\\nAssessment Assessment_\\nService\\nTransition\\n1 30.0 20 30.0 NA Completed Pass N.A.\\nB\\n01 Mar 2025 11:26 AM\\nCLP - RiO - Application Operation Competency - E0 - SP Batch 7\\nSelf Paced\\n88.0 %\\nVijaya Gunji\\nPass\\n2476596'), Document(metadata={'page': 0, 'page_label': '1', 'source': 'C:\\\\Users\\\\my pc\\\\Downloads\\\\Vijaya Gunji report  (3).pdf'}, page_content='Self Paced\\n88.0 %\\nVijaya Gunji\\nPass\\n2476596\\n1095 Days\\nvijayaraju.gunji@tcs.com')], [Document(metadata={'page': 0, 'page_label': '1', 'source': 'C:\\\\Users\\\\my pc\\\\Downloads\\\\Vijaya Gunji report  (3).pdf'}, page_content='Result : \\nCourse Name : \\nCourse Duration : \\nParticipant Name : \\nParticipant Email ID : \\n% of TOC read :\\nACTIVITY DETAILS OF PARTICIPANT\\nCourse Type : \\nReport Generated At : \\nParticipant Unique ID :\\nGrade Obtained :\\nActivity\\nType\\nActivity\\nName\\nAttempt No Total Marks Pass Marks/\\nCutOff\\nMarks\\nObtained\\nGrade Activity\\nAttempted\\nActivity\\nStatus\\nAssignment\\nLink\\nAssessment Assessment_\\nCSI\\n1 30.0 20 30.0 NA Completed Pass N.A.\\nAssessment Assessment_\\nService\\nDesign\\n1 30.0 20 30.0 NA Completed Pass N.A.\\nAssessment ITIL Final\\nAssessment\\n1 100.0 80 88.0 NA Completed Pass N.A.\\nAssessment Assessment_\\nService\\nOperation\\n1 70.0 40 70.0 NA Completed Pass N.A.\\nAssessment Assessment_\\nService\\nStrategy\\n1 30.0 20 20.0 NA Completed Pass N.A.\\nAssessment Assessment_\\nITIL\\nIntroduction\\n1 30.0 20 20.0 NA Completed Pass N.A.\\nAssessment Assessment_\\nService\\nTransition\\n1 30.0 20 30.0 NA Completed Pass N.A.\\nB\\n01 Mar 2025 11:26 AM\\nCLP - RiO - Application Operation Competency - E0 - SP Batch 7\\nSelf Paced\\n88.0 %\\nVijaya Gunji\\nPass\\n2476596'), Document(metadata={'page': 0, 'page_label': '1', 'source': 'C:\\\\Users\\\\my pc\\\\Downloads\\\\Vijaya Gunji report  (3).pdf'}, page_content='Self Paced\\n88.0 %\\nVijaya Gunji\\nPass\\n2476596\\n1095 Days\\nvijayaraju.gunji@tcs.com')], [Document(metadata={'page': 0, 'page_label': '1', 'source': 'C:\\\\Users\\\\my pc\\\\Downloads\\\\Vijaya Gunji report  (3).pdf'}, page_content='Result : \\nCourse Name : \\nCourse Duration : \\nParticipant Name : \\nParticipant Email ID : \\n% of TOC read :\\nACTIVITY DETAILS OF PARTICIPANT\\nCourse Type : \\nReport Generated At : \\nParticipant Unique ID :\\nGrade Obtained :\\nActivity\\nType\\nActivity\\nName\\nAttempt No Total Marks Pass Marks/\\nCutOff\\nMarks\\nObtained\\nGrade Activity\\nAttempted\\nActivity\\nStatus\\nAssignment\\nLink\\nAssessment Assessment_\\nCSI\\n1 30.0 20 30.0 NA Completed Pass N.A.\\nAssessment Assessment_\\nService\\nDesign\\n1 30.0 20 30.0 NA Completed Pass N.A.\\nAssessment ITIL Final\\nAssessment\\n1 100.0 80 88.0 NA Completed Pass N.A.\\nAssessment Assessment_\\nService\\nOperation\\n1 70.0 40 70.0 NA Completed Pass N.A.\\nAssessment Assessment_\\nService\\nStrategy\\n1 30.0 20 20.0 NA Completed Pass N.A.\\nAssessment Assessment_\\nITIL\\nIntroduction\\n1 30.0 20 20.0 NA Completed Pass N.A.\\nAssessment Assessment_\\nService\\nTransition\\n1 30.0 20 30.0 NA Completed Pass N.A.\\nB\\n01 Mar 2025 11:26 AM\\nCLP - RiO - Application Operation Competency - E0 - SP Batch 7\\nSelf Paced\\n88.0 %\\nVijaya Gunji\\nPass\\n2476596'), Document(metadata={'page': 0, 'page_label': '1', 'source': 'C:\\\\Users\\\\my pc\\\\Downloads\\\\Vijaya Gunji report  (3).pdf'}, page_content='Self Paced\\n88.0 %\\nVijaya Gunji\\nPass\\n2476596\\n1095 Days\\nvijayaraju.gunji@tcs.com')], [Document(metadata={'page': 0, 'page_label': '1', 'source': 'C:\\\\Users\\\\my pc\\\\Downloads\\\\Vijaya Gunji report  (3).pdf'}, page_content='Result : \\nCourse Name : \\nCourse Duration : \\nParticipant Name : \\nParticipant Email ID : \\n% of TOC read :\\nACTIVITY DETAILS OF PARTICIPANT\\nCourse Type : \\nReport Generated At : \\nParticipant Unique ID :\\nGrade Obtained :\\nActivity\\nType\\nActivity\\nName\\nAttempt No Total Marks Pass Marks/\\nCutOff\\nMarks\\nObtained\\nGrade Activity\\nAttempted\\nActivity\\nStatus\\nAssignment\\nLink\\nAssessment Assessment_\\nCSI\\n1 30.0 20 30.0 NA Completed Pass N.A.\\nAssessment Assessment_\\nService\\nDesign\\n1 30.0 20 30.0 NA Completed Pass N.A.\\nAssessment ITIL Final\\nAssessment\\n1 100.0 80 88.0 NA Completed Pass N.A.\\nAssessment Assessment_\\nService\\nOperation\\n1 70.0 40 70.0 NA Completed Pass N.A.\\nAssessment Assessment_\\nService\\nStrategy\\n1 30.0 20 20.0 NA Completed Pass N.A.\\nAssessment Assessment_\\nITIL\\nIntroduction\\n1 30.0 20 20.0 NA Completed Pass N.A.\\nAssessment Assessment_\\nService\\nTransition\\n1 30.0 20 30.0 NA Completed Pass N.A.\\nB\\n01 Mar 2025 11:26 AM\\nCLP - RiO - Application Operation Competency - E0 - SP Batch 7\\nSelf Paced\\n88.0 %\\nVijaya Gunji\\nPass\\n2476596'), Document(metadata={'page': 0, 'page_label': '1', 'source': 'C:\\\\Users\\\\my pc\\\\Downloads\\\\Vijaya Gunji report  (3).pdf'}, page_content='Self Paced\\n88.0 %\\nVijaya Gunji\\nPass\\n2476596\\n1095 Days\\nvijayaraju.gunji@tcs.com')]]}\n"
     ]
    },
    {
     "name": "stderr",
     "output_type": "stream",
     "text": [
      "Number of requested results 4 is greater than number of elements in index 2, updating n_results = 2\n",
      "Number of requested results 4 is greater than number of elements in index 2, updating n_results = 2\n",
      "Number of requested results 4 is greater than number of elements in index 2, updating n_results = 2\n",
      "Number of requested results 4 is greater than number of elements in index 2, updating n_results = 2\n",
      "Number of requested results 4 is greater than number of elements in index 2, updating n_results = 2\n",
      "Number of requested results 4 is greater than number of elements in index 2, updating n_results = 2\n",
      "Number of requested results 4 is greater than number of elements in index 2, updating n_results = 2\n",
      "Number of requested results 4 is greater than number of elements in index 2, updating n_results = 2\n",
      "Number of requested results 4 is greater than number of elements in index 2, updating n_results = 2\n"
     ]
    },
    {
     "name": "stdout",
     "output_type": "stream",
     "text": [
      "result --------------------------> Based on the chat history, it appears that you have only had a single conversation with me, and that's about Vijaya Gunji. In your previous message, you asked me to \"give me some information about vijay\", and I responded by providing some details about Vijaya Gunji based on the context provided. You then asked again for the same information, and I repeated my previous response. There hasn't been any other discussion or topic explored in our conversation so far.\n"
     ]
    }
   ],
   "source": [
    "groq_api_key = \"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\"\n",
    "\n",
    "model =ChatGroq(groq_api_key=groq_api_key, model_name=\"Llama3-8b-8192\") \n",
    "session_id=\"124322111123\"\n",
    "\n",
    "query =\"give me some information about vijay\"\n",
    "keyword_retriever = keyword_retriver\n",
    "\n",
    "retriever =retriver\n",
    "        \n",
    "ensemble_retriever = EnsembleRetriever(retrievers=[retriever,keyword_retriever],weights=[0.5,0.5])\n",
    "\n",
    "print(\"Ensemble retriver ============>\",ensemble_retriever.invoke(query))\n",
    "    \n",
    "template =\"\"\"You are an AI language model assistant. Your task is to generate five different versions of the given user question to retrieve relevant documents from a vector database. By generating multiple perspectives on the user question, your goal is to help the user overcome some of the limitations of the distance-based similarity search. Provide these alternative questions separated by newlines. Original question: {input}\n",
    "        \"\"\" \n",
    "\n",
    "# prompt_perspectives = ChatPromptTemplate.from_messages(\n",
    "#     [\n",
    "#         (\"system\",template),\n",
    "#         MessagesPlaceholder(\"chat_history\"),\n",
    "#         (\"human\",\"{question}\"),\n",
    "#     ]\n",
    "# )\n",
    "prompt_perspectives = ChatPromptTemplate.from_template(template)\n",
    "\n",
    "generate_queries = (\n",
    "    prompt_perspectives\n",
    "    | model\n",
    "    | StrOutputParser()\n",
    "    | (lambda x: x.split(\"\\n\"))\n",
    ")\n",
    "\n",
    "\n",
    "print(\"multi queries=========================>\",generate_queries.invoke(query))\n",
    "\n",
    "Prompt_template_2 =\"\"\"\"\n",
    "            You are a friendly AI, answering questions that you know based on the context if you know: {context}             \n",
    "Chat history: {history}\n",
    "Question: {input}\n",
    "Helpful Answer:\n",
    "\"\"\" \n",
    "prompt_1 = ChatPromptTemplate.from_template(Prompt_template_2)\n",
    "\n",
    "# code_chain =(\n",
    "#     {\"context\":itemgetter(\"input\")| generate_queries| ensemble_retriever, \"input\": itemgetter(\"input\"), \"history\":itemgetter(\"history\")}\n",
    "#     | prompt\n",
    "#     | self.model\n",
    "#     |StrOutputParser()\n",
    "# )\n",
    "retriever_chain = RunnablePassthrough.assign(context = generate_queries | ensemble_retriever.map())\n",
    "\n",
    "print(\"Retriveal chain response===========>\",retriever_chain.invoke({\"input\":query}))\n",
    "\n",
    "rag_chain = retriever_chain | prompt_1 | model | StrOutputParser()\n",
    "\n",
    "print(\"Rag chain response===========>\",retriever_chain.invoke({\"input\":query}))\n",
    "\n",
    "chain_with_history = RunnableWithMessageHistory(\n",
    "    rag_chain,\n",
    "    lambda session_id:SQLChatMessageHistory(\n",
    "        session_id=session_id,\n",
    "        connection_string=\"sqlite:///sqlite.db\"),\n",
    "    input_messages_key =\"input\",\n",
    "    history_messages_key=\"history\", \n",
    ")\n",
    "\n",
    "config = {\"configurable\":{\"session_id\": session_id}}\n",
    "res = chain_with_history.invoke({\"input\":\"can you tell me what we have discussed in previous responses\"} , config=config)\n",
    "print(\"result -------------------------->\",res)"
   ]
  },
  {
   "cell_type": "code",
   "execution_count": 11,
   "metadata": {},
   "outputs": [
    {
     "name": "stdout",
     "output_type": "stream",
     "text": [
      "Name: langchainNote: you may need to restart the kernel to use updated packages.\n",
      "\n",
      "Version: 0.3.15\n",
      "Summary: Building applications with LLMs through composability\n",
      "Home-page: https://github.com/langchain-ai/langchain\n",
      "Author: \n",
      "Author-email: \n",
      "License: MIT\n",
      "Location: C:\\Users\\my pc\\AppData\\Roaming\\Python\\Python312\\site-packages\n",
      "Requires: aiohttp, langchain-core, langchain-text-splitters, langsmith, numpy, pydantic, PyYAML, requests, SQLAlchemy, tenacity\n",
      "Required-by: langchain-community\n"
     ]
    }
   ],
   "source": [
    "pip show langchain"
   ]
  },
  {
   "cell_type": "code",
   "execution_count": 13,
   "metadata": {},
   "outputs": [
    {
     "name": "stdout",
     "output_type": "stream",
     "text": [
      "Name: langchain-community\n",
      "Version: 0.3.15\n",
      "Summary: Community contributed LangChain integrations.\n",
      "Home-page: https://github.com/langchain-ai/langchain\n",
      "Author: \n",
      "Author-email: \n",
      "License: MIT\n",
      "Location: C:\\Users\\my pc\\AppData\\Roaming\\Python\\Python312\\site-packages\n",
      "Requires: aiohttp, dataclasses-json, httpx-sse, langchain, langchain-core, langsmith, numpy, pydantic-settings, PyYAML, requests, SQLAlchemy, tenacity\n",
      "Required-by: langchain-experimental\n",
      "Note: you may need to restart the kernel to use updated packages.\n"
     ]
    }
   ],
   "source": [
    "pip show langchain_community"
   ]
  },
  {
   "cell_type": "code",
   "execution_count": 14,
   "metadata": {},
   "outputs": [
    {
     "name": "stdout",
     "output_type": "stream",
     "text": [
      "Name: chromadb\n",
      "Version: 0.6.3\n",
      "Summary: Chroma.\n",
      "Home-page: https://github.com/chroma-core/chroma\n",
      "Author: \n",
      "Author-email: Jeff Huber <jeff@trychroma.com>, Anton Troynikov <anton@trychroma.com>\n",
      "License: \n",
      "Location: C:\\Users\\my pc\\AppData\\Roaming\\Python\\Python312\\site-packages\n",
      "Requires: bcrypt, build, chroma-hnswlib, fastapi, grpcio, httpx, importlib-resources, kubernetes, mmh3, numpy, onnxruntime, opentelemetry-api, opentelemetry-exporter-otlp-proto-grpc, opentelemetry-instrumentation-fastapi, opentelemetry-sdk, orjson, overrides, posthog, pydantic, pypika, PyYAML, rich, tenacity, tokenizers, tqdm, typer, typing_extensions, uvicorn\n",
      "Required-by: \n",
      "Note: you may need to restart the kernel to use updated packages.\n"
     ]
    }
   ],
   "source": [
    "pip show chromadb\n"
   ]
  },
  {
   "cell_type": "code",
   "execution_count": 20,
   "metadata": {},
   "outputs": [
    {
     "name": "stderr",
     "output_type": "stream",
     "text": [
      "Number of requested results 4 is greater than number of elements in index 2, updating n_results = 2\n"
     ]
    },
    {
     "name": "stdout",
     "output_type": "stream",
     "text": [
      "Ensemble retriver ============> [Document(metadata={'page': 0, 'page_label': '1', 'source': 'C:\\\\Users\\\\my pc\\\\Downloads\\\\Vijaya Gunji report  (3).pdf'}, page_content='Result : \\nCourse Name : \\nCourse Duration : \\nParticipant Name : \\nParticipant Email ID : \\n% of TOC read :\\nACTIVITY DETAILS OF PARTICIPANT\\nCourse Type : \\nReport Generated At : \\nParticipant Unique ID :\\nGrade Obtained :\\nActivity\\nType\\nActivity\\nName\\nAttempt No Total Marks Pass Marks/\\nCutOff\\nMarks\\nObtained\\nGrade Activity\\nAttempted\\nActivity\\nStatus\\nAssignment\\nLink\\nAssessment Assessment_\\nCSI\\n1 30.0 20 30.0 NA Completed Pass N.A.\\nAssessment Assessment_\\nService\\nDesign\\n1 30.0 20 30.0 NA Completed Pass N.A.\\nAssessment ITIL Final\\nAssessment\\n1 100.0 80 88.0 NA Completed Pass N.A.\\nAssessment Assessment_\\nService\\nOperation\\n1 70.0 40 70.0 NA Completed Pass N.A.\\nAssessment Assessment_\\nService\\nStrategy\\n1 30.0 20 20.0 NA Completed Pass N.A.\\nAssessment Assessment_\\nITIL\\nIntroduction\\n1 30.0 20 20.0 NA Completed Pass N.A.\\nAssessment Assessment_\\nService\\nTransition\\n1 30.0 20 30.0 NA Completed Pass N.A.\\nB\\n01 Mar 2025 11:26 AM\\nCLP - RiO - Application Operation Competency - E0 - SP Batch 7\\nSelf Paced\\n88.0 %\\nVijaya Gunji\\nPass\\n2476596'), Document(metadata={'page': 0, 'page_label': '1', 'source': 'C:\\\\Users\\\\my pc\\\\Downloads\\\\Vijaya Gunji report  (3).pdf'}, page_content='Self Paced\\n88.0 %\\nVijaya Gunji\\nPass\\n2476596\\n1095 Days\\nvijayaraju.gunji@tcs.com')]\n",
      "multi queries=========================> ['Here are five alternative versions of the original question to help retrieve relevant documents from a vector database:', '', 'What can you tell me about Vijay?', '', 'Describe Vijay in detail.', '', 'Information about Vijay, please.', '', 'What is known about Vijay?', '', 'Can you provide insights about Vijay?', '', 'These alternative questions are designed to generate different perspectives on the original query, which can help to:', '', '1. Use different keywords: \"Vijay\" is the same keyword, but the questions use it in different contexts.', '2. Ask more specific questions: \"Describe Vijay in detail\" is a more specific question than the original, which can help to retrieve more precise results.', '3. Use synonyms: \"Information about Vijay\" uses a synonym for \"give me some information\" to retrieve similar documents.', '4. Ask open-ended questions: \"What is known about Vijay?\" and \"Can you provide insights about Vijay?\" are open-ended questions that can retrieve documents that provide more general information about Vijay.', '5. Emphasize different aspects: \"Describe Vijay in detail\" focuses on Vijay\\'s characteristics, while \"What can you tell me about Vijay?\" is more general.', '', \"By generating these alternative questions, you can increase the chances of retrieving relevant documents from the vector database, even if the original query doesn't quite match the stored documents.\"]\n"
     ]
    },
    {
     "name": "stderr",
     "output_type": "stream",
     "text": [
      "Number of requested results 4 is greater than number of elements in index 2, updating n_results = 2\n",
      "Number of requested results 4 is greater than number of elements in index 2, updating n_results = 2\n",
      "Number of requested results 4 is greater than number of elements in index 2, updating n_results = 2\n",
      "Number of requested results 4 is greater than number of elements in index 2, updating n_results = 2\n",
      "Number of requested results 4 is greater than number of elements in index 2, updating n_results = 2\n",
      "Number of requested results 4 is greater than number of elements in index 2, updating n_results = 2\n",
      "Number of requested results 4 is greater than number of elements in index 2, updating n_results = 2\n",
      "Number of requested results 4 is greater than number of elements in index 2, updating n_results = 2\n",
      "Number of requested results 4 is greater than number of elements in index 2, updating n_results = 2\n",
      "Number of requested results 4 is greater than number of elements in index 2, updating n_results = 2\n",
      "Number of requested results 4 is greater than number of elements in index 2, updating n_results = 2\n",
      "Number of requested results 4 is greater than number of elements in index 2, updating n_results = 2\n",
      "Number of requested results 4 is greater than number of elements in index 2, updating n_results = 2\n"
     ]
    },
    {
     "name": "stdout",
     "output_type": "stream",
     "text": [
      "Retrieval chain response===========> {'input': 'give me some information about vijay', 'context': [[Document(metadata={'page': 0, 'page_label': '1', 'source': 'C:\\\\Users\\\\my pc\\\\Downloads\\\\Vijaya Gunji report  (3).pdf'}, page_content='Result : \\nCourse Name : \\nCourse Duration : \\nParticipant Name : \\nParticipant Email ID : \\n% of TOC read :\\nACTIVITY DETAILS OF PARTICIPANT\\nCourse Type : \\nReport Generated At : \\nParticipant Unique ID :\\nGrade Obtained :\\nActivity\\nType\\nActivity\\nName\\nAttempt No Total Marks Pass Marks/\\nCutOff\\nMarks\\nObtained\\nGrade Activity\\nAttempted\\nActivity\\nStatus\\nAssignment\\nLink\\nAssessment Assessment_\\nCSI\\n1 30.0 20 30.0 NA Completed Pass N.A.\\nAssessment Assessment_\\nService\\nDesign\\n1 30.0 20 30.0 NA Completed Pass N.A.\\nAssessment ITIL Final\\nAssessment\\n1 100.0 80 88.0 NA Completed Pass N.A.\\nAssessment Assessment_\\nService\\nOperation\\n1 70.0 40 70.0 NA Completed Pass N.A.\\nAssessment Assessment_\\nService\\nStrategy\\n1 30.0 20 20.0 NA Completed Pass N.A.\\nAssessment Assessment_\\nITIL\\nIntroduction\\n1 30.0 20 20.0 NA Completed Pass N.A.\\nAssessment Assessment_\\nService\\nTransition\\n1 30.0 20 30.0 NA Completed Pass N.A.\\nB\\n01 Mar 2025 11:26 AM\\nCLP - RiO - Application Operation Competency - E0 - SP Batch 7\\nSelf Paced\\n88.0 %\\nVijaya Gunji\\nPass\\n2476596'), Document(metadata={'page': 0, 'page_label': '1', 'source': 'C:\\\\Users\\\\my pc\\\\Downloads\\\\Vijaya Gunji report  (3).pdf'}, page_content='Self Paced\\n88.0 %\\nVijaya Gunji\\nPass\\n2476596\\n1095 Days\\nvijayaraju.gunji@tcs.com')], [Document(metadata={'page': 0, 'page_label': '1', 'source': 'C:\\\\Users\\\\my pc\\\\Downloads\\\\Vijaya Gunji report  (3).pdf'}, page_content='Result : \\nCourse Name : \\nCourse Duration : \\nParticipant Name : \\nParticipant Email ID : \\n% of TOC read :\\nACTIVITY DETAILS OF PARTICIPANT\\nCourse Type : \\nReport Generated At : \\nParticipant Unique ID :\\nGrade Obtained :\\nActivity\\nType\\nActivity\\nName\\nAttempt No Total Marks Pass Marks/\\nCutOff\\nMarks\\nObtained\\nGrade Activity\\nAttempted\\nActivity\\nStatus\\nAssignment\\nLink\\nAssessment Assessment_\\nCSI\\n1 30.0 20 30.0 NA Completed Pass N.A.\\nAssessment Assessment_\\nService\\nDesign\\n1 30.0 20 30.0 NA Completed Pass N.A.\\nAssessment ITIL Final\\nAssessment\\n1 100.0 80 88.0 NA Completed Pass N.A.\\nAssessment Assessment_\\nService\\nOperation\\n1 70.0 40 70.0 NA Completed Pass N.A.\\nAssessment Assessment_\\nService\\nStrategy\\n1 30.0 20 20.0 NA Completed Pass N.A.\\nAssessment Assessment_\\nITIL\\nIntroduction\\n1 30.0 20 20.0 NA Completed Pass N.A.\\nAssessment Assessment_\\nService\\nTransition\\n1 30.0 20 30.0 NA Completed Pass N.A.\\nB\\n01 Mar 2025 11:26 AM\\nCLP - RiO - Application Operation Competency - E0 - SP Batch 7\\nSelf Paced\\n88.0 %\\nVijaya Gunji\\nPass\\n2476596'), Document(metadata={'page': 0, 'page_label': '1', 'source': 'C:\\\\Users\\\\my pc\\\\Downloads\\\\Vijaya Gunji report  (3).pdf'}, page_content='Self Paced\\n88.0 %\\nVijaya Gunji\\nPass\\n2476596\\n1095 Days\\nvijayaraju.gunji@tcs.com')], [Document(metadata={'page': 0, 'page_label': '1', 'source': 'C:\\\\Users\\\\my pc\\\\Downloads\\\\Vijaya Gunji report  (3).pdf'}, page_content='Result : \\nCourse Name : \\nCourse Duration : \\nParticipant Name : \\nParticipant Email ID : \\n% of TOC read :\\nACTIVITY DETAILS OF PARTICIPANT\\nCourse Type : \\nReport Generated At : \\nParticipant Unique ID :\\nGrade Obtained :\\nActivity\\nType\\nActivity\\nName\\nAttempt No Total Marks Pass Marks/\\nCutOff\\nMarks\\nObtained\\nGrade Activity\\nAttempted\\nActivity\\nStatus\\nAssignment\\nLink\\nAssessment Assessment_\\nCSI\\n1 30.0 20 30.0 NA Completed Pass N.A.\\nAssessment Assessment_\\nService\\nDesign\\n1 30.0 20 30.0 NA Completed Pass N.A.\\nAssessment ITIL Final\\nAssessment\\n1 100.0 80 88.0 NA Completed Pass N.A.\\nAssessment Assessment_\\nService\\nOperation\\n1 70.0 40 70.0 NA Completed Pass N.A.\\nAssessment Assessment_\\nService\\nStrategy\\n1 30.0 20 20.0 NA Completed Pass N.A.\\nAssessment Assessment_\\nITIL\\nIntroduction\\n1 30.0 20 20.0 NA Completed Pass N.A.\\nAssessment Assessment_\\nService\\nTransition\\n1 30.0 20 30.0 NA Completed Pass N.A.\\nB\\n01 Mar 2025 11:26 AM\\nCLP - RiO - Application Operation Competency - E0 - SP Batch 7\\nSelf Paced\\n88.0 %\\nVijaya Gunji\\nPass\\n2476596'), Document(metadata={'page': 0, 'page_label': '1', 'source': 'C:\\\\Users\\\\my pc\\\\Downloads\\\\Vijaya Gunji report  (3).pdf'}, page_content='Self Paced\\n88.0 %\\nVijaya Gunji\\nPass\\n2476596\\n1095 Days\\nvijayaraju.gunji@tcs.com')], [Document(metadata={'page': 0, 'page_label': '1', 'source': 'C:\\\\Users\\\\my pc\\\\Downloads\\\\Vijaya Gunji report  (3).pdf'}, page_content='Result : \\nCourse Name : \\nCourse Duration : \\nParticipant Name : \\nParticipant Email ID : \\n% of TOC read :\\nACTIVITY DETAILS OF PARTICIPANT\\nCourse Type : \\nReport Generated At : \\nParticipant Unique ID :\\nGrade Obtained :\\nActivity\\nType\\nActivity\\nName\\nAttempt No Total Marks Pass Marks/\\nCutOff\\nMarks\\nObtained\\nGrade Activity\\nAttempted\\nActivity\\nStatus\\nAssignment\\nLink\\nAssessment Assessment_\\nCSI\\n1 30.0 20 30.0 NA Completed Pass N.A.\\nAssessment Assessment_\\nService\\nDesign\\n1 30.0 20 30.0 NA Completed Pass N.A.\\nAssessment ITIL Final\\nAssessment\\n1 100.0 80 88.0 NA Completed Pass N.A.\\nAssessment Assessment_\\nService\\nOperation\\n1 70.0 40 70.0 NA Completed Pass N.A.\\nAssessment Assessment_\\nService\\nStrategy\\n1 30.0 20 20.0 NA Completed Pass N.A.\\nAssessment Assessment_\\nITIL\\nIntroduction\\n1 30.0 20 20.0 NA Completed Pass N.A.\\nAssessment Assessment_\\nService\\nTransition\\n1 30.0 20 30.0 NA Completed Pass N.A.\\nB\\n01 Mar 2025 11:26 AM\\nCLP - RiO - Application Operation Competency - E0 - SP Batch 7\\nSelf Paced\\n88.0 %\\nVijaya Gunji\\nPass\\n2476596'), Document(metadata={'page': 0, 'page_label': '1', 'source': 'C:\\\\Users\\\\my pc\\\\Downloads\\\\Vijaya Gunji report  (3).pdf'}, page_content='Self Paced\\n88.0 %\\nVijaya Gunji\\nPass\\n2476596\\n1095 Days\\nvijayaraju.gunji@tcs.com')], [Document(metadata={'page': 0, 'page_label': '1', 'source': 'C:\\\\Users\\\\my pc\\\\Downloads\\\\Vijaya Gunji report  (3).pdf'}, page_content='Result : \\nCourse Name : \\nCourse Duration : \\nParticipant Name : \\nParticipant Email ID : \\n% of TOC read :\\nACTIVITY DETAILS OF PARTICIPANT\\nCourse Type : \\nReport Generated At : \\nParticipant Unique ID :\\nGrade Obtained :\\nActivity\\nType\\nActivity\\nName\\nAttempt No Total Marks Pass Marks/\\nCutOff\\nMarks\\nObtained\\nGrade Activity\\nAttempted\\nActivity\\nStatus\\nAssignment\\nLink\\nAssessment Assessment_\\nCSI\\n1 30.0 20 30.0 NA Completed Pass N.A.\\nAssessment Assessment_\\nService\\nDesign\\n1 30.0 20 30.0 NA Completed Pass N.A.\\nAssessment ITIL Final\\nAssessment\\n1 100.0 80 88.0 NA Completed Pass N.A.\\nAssessment Assessment_\\nService\\nOperation\\n1 70.0 40 70.0 NA Completed Pass N.A.\\nAssessment Assessment_\\nService\\nStrategy\\n1 30.0 20 20.0 NA Completed Pass N.A.\\nAssessment Assessment_\\nITIL\\nIntroduction\\n1 30.0 20 20.0 NA Completed Pass N.A.\\nAssessment Assessment_\\nService\\nTransition\\n1 30.0 20 30.0 NA Completed Pass N.A.\\nB\\n01 Mar 2025 11:26 AM\\nCLP - RiO - Application Operation Competency - E0 - SP Batch 7\\nSelf Paced\\n88.0 %\\nVijaya Gunji\\nPass\\n2476596'), Document(metadata={'page': 0, 'page_label': '1', 'source': 'C:\\\\Users\\\\my pc\\\\Downloads\\\\Vijaya Gunji report  (3).pdf'}, page_content='Self Paced\\n88.0 %\\nVijaya Gunji\\nPass\\n2476596\\n1095 Days\\nvijayaraju.gunji@tcs.com')], [Document(metadata={'page': 0, 'page_label': '1', 'source': 'C:\\\\Users\\\\my pc\\\\Downloads\\\\Vijaya Gunji report  (3).pdf'}, page_content='Result : \\nCourse Name : \\nCourse Duration : \\nParticipant Name : \\nParticipant Email ID : \\n% of TOC read :\\nACTIVITY DETAILS OF PARTICIPANT\\nCourse Type : \\nReport Generated At : \\nParticipant Unique ID :\\nGrade Obtained :\\nActivity\\nType\\nActivity\\nName\\nAttempt No Total Marks Pass Marks/\\nCutOff\\nMarks\\nObtained\\nGrade Activity\\nAttempted\\nActivity\\nStatus\\nAssignment\\nLink\\nAssessment Assessment_\\nCSI\\n1 30.0 20 30.0 NA Completed Pass N.A.\\nAssessment Assessment_\\nService\\nDesign\\n1 30.0 20 30.0 NA Completed Pass N.A.\\nAssessment ITIL Final\\nAssessment\\n1 100.0 80 88.0 NA Completed Pass N.A.\\nAssessment Assessment_\\nService\\nOperation\\n1 70.0 40 70.0 NA Completed Pass N.A.\\nAssessment Assessment_\\nService\\nStrategy\\n1 30.0 20 20.0 NA Completed Pass N.A.\\nAssessment Assessment_\\nITIL\\nIntroduction\\n1 30.0 20 20.0 NA Completed Pass N.A.\\nAssessment Assessment_\\nService\\nTransition\\n1 30.0 20 30.0 NA Completed Pass N.A.\\nB\\n01 Mar 2025 11:26 AM\\nCLP - RiO - Application Operation Competency - E0 - SP Batch 7\\nSelf Paced\\n88.0 %\\nVijaya Gunji\\nPass\\n2476596'), Document(metadata={'page': 0, 'page_label': '1', 'source': 'C:\\\\Users\\\\my pc\\\\Downloads\\\\Vijaya Gunji report  (3).pdf'}, page_content='Self Paced\\n88.0 %\\nVijaya Gunji\\nPass\\n2476596\\n1095 Days\\nvijayaraju.gunji@tcs.com')], [Document(metadata={'page': 0, 'page_label': '1', 'source': 'C:\\\\Users\\\\my pc\\\\Downloads\\\\Vijaya Gunji report  (3).pdf'}, page_content='Result : \\nCourse Name : \\nCourse Duration : \\nParticipant Name : \\nParticipant Email ID : \\n% of TOC read :\\nACTIVITY DETAILS OF PARTICIPANT\\nCourse Type : \\nReport Generated At : \\nParticipant Unique ID :\\nGrade Obtained :\\nActivity\\nType\\nActivity\\nName\\nAttempt No Total Marks Pass Marks/\\nCutOff\\nMarks\\nObtained\\nGrade Activity\\nAttempted\\nActivity\\nStatus\\nAssignment\\nLink\\nAssessment Assessment_\\nCSI\\n1 30.0 20 30.0 NA Completed Pass N.A.\\nAssessment Assessment_\\nService\\nDesign\\n1 30.0 20 30.0 NA Completed Pass N.A.\\nAssessment ITIL Final\\nAssessment\\n1 100.0 80 88.0 NA Completed Pass N.A.\\nAssessment Assessment_\\nService\\nOperation\\n1 70.0 40 70.0 NA Completed Pass N.A.\\nAssessment Assessment_\\nService\\nStrategy\\n1 30.0 20 20.0 NA Completed Pass N.A.\\nAssessment Assessment_\\nITIL\\nIntroduction\\n1 30.0 20 20.0 NA Completed Pass N.A.\\nAssessment Assessment_\\nService\\nTransition\\n1 30.0 20 30.0 NA Completed Pass N.A.\\nB\\n01 Mar 2025 11:26 AM\\nCLP - RiO - Application Operation Competency - E0 - SP Batch 7\\nSelf Paced\\n88.0 %\\nVijaya Gunji\\nPass\\n2476596'), Document(metadata={'page': 0, 'page_label': '1', 'source': 'C:\\\\Users\\\\my pc\\\\Downloads\\\\Vijaya Gunji report  (3).pdf'}, page_content='Self Paced\\n88.0 %\\nVijaya Gunji\\nPass\\n2476596\\n1095 Days\\nvijayaraju.gunji@tcs.com')], [Document(metadata={'page': 0, 'page_label': '1', 'source': 'C:\\\\Users\\\\my pc\\\\Downloads\\\\Vijaya Gunji report  (3).pdf'}, page_content='Result : \\nCourse Name : \\nCourse Duration : \\nParticipant Name : \\nParticipant Email ID : \\n% of TOC read :\\nACTIVITY DETAILS OF PARTICIPANT\\nCourse Type : \\nReport Generated At : \\nParticipant Unique ID :\\nGrade Obtained :\\nActivity\\nType\\nActivity\\nName\\nAttempt No Total Marks Pass Marks/\\nCutOff\\nMarks\\nObtained\\nGrade Activity\\nAttempted\\nActivity\\nStatus\\nAssignment\\nLink\\nAssessment Assessment_\\nCSI\\n1 30.0 20 30.0 NA Completed Pass N.A.\\nAssessment Assessment_\\nService\\nDesign\\n1 30.0 20 30.0 NA Completed Pass N.A.\\nAssessment ITIL Final\\nAssessment\\n1 100.0 80 88.0 NA Completed Pass N.A.\\nAssessment Assessment_\\nService\\nOperation\\n1 70.0 40 70.0 NA Completed Pass N.A.\\nAssessment Assessment_\\nService\\nStrategy\\n1 30.0 20 20.0 NA Completed Pass N.A.\\nAssessment Assessment_\\nITIL\\nIntroduction\\n1 30.0 20 20.0 NA Completed Pass N.A.\\nAssessment Assessment_\\nService\\nTransition\\n1 30.0 20 30.0 NA Completed Pass N.A.\\nB\\n01 Mar 2025 11:26 AM\\nCLP - RiO - Application Operation Competency - E0 - SP Batch 7\\nSelf Paced\\n88.0 %\\nVijaya Gunji\\nPass\\n2476596'), Document(metadata={'page': 0, 'page_label': '1', 'source': 'C:\\\\Users\\\\my pc\\\\Downloads\\\\Vijaya Gunji report  (3).pdf'}, page_content='Self Paced\\n88.0 %\\nVijaya Gunji\\nPass\\n2476596\\n1095 Days\\nvijayaraju.gunji@tcs.com')], [Document(metadata={'page': 0, 'page_label': '1', 'source': 'C:\\\\Users\\\\my pc\\\\Downloads\\\\Vijaya Gunji report  (3).pdf'}, page_content='Self Paced\\n88.0 %\\nVijaya Gunji\\nPass\\n2476596\\n1095 Days\\nvijayaraju.gunji@tcs.com'), Document(metadata={'page': 0, 'page_label': '1', 'source': 'C:\\\\Users\\\\my pc\\\\Downloads\\\\Vijaya Gunji report  (3).pdf'}, page_content='Result : \\nCourse Name : \\nCourse Duration : \\nParticipant Name : \\nParticipant Email ID : \\n% of TOC read :\\nACTIVITY DETAILS OF PARTICIPANT\\nCourse Type : \\nReport Generated At : \\nParticipant Unique ID :\\nGrade Obtained :\\nActivity\\nType\\nActivity\\nName\\nAttempt No Total Marks Pass Marks/\\nCutOff\\nMarks\\nObtained\\nGrade Activity\\nAttempted\\nActivity\\nStatus\\nAssignment\\nLink\\nAssessment Assessment_\\nCSI\\n1 30.0 20 30.0 NA Completed Pass N.A.\\nAssessment Assessment_\\nService\\nDesign\\n1 30.0 20 30.0 NA Completed Pass N.A.\\nAssessment ITIL Final\\nAssessment\\n1 100.0 80 88.0 NA Completed Pass N.A.\\nAssessment Assessment_\\nService\\nOperation\\n1 70.0 40 70.0 NA Completed Pass N.A.\\nAssessment Assessment_\\nService\\nStrategy\\n1 30.0 20 20.0 NA Completed Pass N.A.\\nAssessment Assessment_\\nITIL\\nIntroduction\\n1 30.0 20 20.0 NA Completed Pass N.A.\\nAssessment Assessment_\\nService\\nTransition\\n1 30.0 20 30.0 NA Completed Pass N.A.\\nB\\n01 Mar 2025 11:26 AM\\nCLP - RiO - Application Operation Competency - E0 - SP Batch 7\\nSelf Paced\\n88.0 %\\nVijaya Gunji\\nPass\\n2476596')], [Document(metadata={'page': 0, 'page_label': '1', 'source': 'C:\\\\Users\\\\my pc\\\\Downloads\\\\Vijaya Gunji report  (3).pdf'}, page_content='Result : \\nCourse Name : \\nCourse Duration : \\nParticipant Name : \\nParticipant Email ID : \\n% of TOC read :\\nACTIVITY DETAILS OF PARTICIPANT\\nCourse Type : \\nReport Generated At : \\nParticipant Unique ID :\\nGrade Obtained :\\nActivity\\nType\\nActivity\\nName\\nAttempt No Total Marks Pass Marks/\\nCutOff\\nMarks\\nObtained\\nGrade Activity\\nAttempted\\nActivity\\nStatus\\nAssignment\\nLink\\nAssessment Assessment_\\nCSI\\n1 30.0 20 30.0 NA Completed Pass N.A.\\nAssessment Assessment_\\nService\\nDesign\\n1 30.0 20 30.0 NA Completed Pass N.A.\\nAssessment ITIL Final\\nAssessment\\n1 100.0 80 88.0 NA Completed Pass N.A.\\nAssessment Assessment_\\nService\\nOperation\\n1 70.0 40 70.0 NA Completed Pass N.A.\\nAssessment Assessment_\\nService\\nStrategy\\n1 30.0 20 20.0 NA Completed Pass N.A.\\nAssessment Assessment_\\nITIL\\nIntroduction\\n1 30.0 20 20.0 NA Completed Pass N.A.\\nAssessment Assessment_\\nService\\nTransition\\n1 30.0 20 30.0 NA Completed Pass N.A.\\nB\\n01 Mar 2025 11:26 AM\\nCLP - RiO - Application Operation Competency - E0 - SP Batch 7\\nSelf Paced\\n88.0 %\\nVijaya Gunji\\nPass\\n2476596'), Document(metadata={'page': 0, 'page_label': '1', 'source': 'C:\\\\Users\\\\my pc\\\\Downloads\\\\Vijaya Gunji report  (3).pdf'}, page_content='Self Paced\\n88.0 %\\nVijaya Gunji\\nPass\\n2476596\\n1095 Days\\nvijayaraju.gunji@tcs.com')], [Document(metadata={'page': 0, 'page_label': '1', 'source': 'C:\\\\Users\\\\my pc\\\\Downloads\\\\Vijaya Gunji report  (3).pdf'}, page_content='Result : \\nCourse Name : \\nCourse Duration : \\nParticipant Name : \\nParticipant Email ID : \\n% of TOC read :\\nACTIVITY DETAILS OF PARTICIPANT\\nCourse Type : \\nReport Generated At : \\nParticipant Unique ID :\\nGrade Obtained :\\nActivity\\nType\\nActivity\\nName\\nAttempt No Total Marks Pass Marks/\\nCutOff\\nMarks\\nObtained\\nGrade Activity\\nAttempted\\nActivity\\nStatus\\nAssignment\\nLink\\nAssessment Assessment_\\nCSI\\n1 30.0 20 30.0 NA Completed Pass N.A.\\nAssessment Assessment_\\nService\\nDesign\\n1 30.0 20 30.0 NA Completed Pass N.A.\\nAssessment ITIL Final\\nAssessment\\n1 100.0 80 88.0 NA Completed Pass N.A.\\nAssessment Assessment_\\nService\\nOperation\\n1 70.0 40 70.0 NA Completed Pass N.A.\\nAssessment Assessment_\\nService\\nStrategy\\n1 30.0 20 20.0 NA Completed Pass N.A.\\nAssessment Assessment_\\nITIL\\nIntroduction\\n1 30.0 20 20.0 NA Completed Pass N.A.\\nAssessment Assessment_\\nService\\nTransition\\n1 30.0 20 30.0 NA Completed Pass N.A.\\nB\\n01 Mar 2025 11:26 AM\\nCLP - RiO - Application Operation Competency - E0 - SP Batch 7\\nSelf Paced\\n88.0 %\\nVijaya Gunji\\nPass\\n2476596'), Document(metadata={'page': 0, 'page_label': '1', 'source': 'C:\\\\Users\\\\my pc\\\\Downloads\\\\Vijaya Gunji report  (3).pdf'}, page_content='Self Paced\\n88.0 %\\nVijaya Gunji\\nPass\\n2476596\\n1095 Days\\nvijayaraju.gunji@tcs.com')], [Document(metadata={'page': 0, 'page_label': '1', 'source': 'C:\\\\Users\\\\my pc\\\\Downloads\\\\Vijaya Gunji report  (3).pdf'}, page_content='Result : \\nCourse Name : \\nCourse Duration : \\nParticipant Name : \\nParticipant Email ID : \\n% of TOC read :\\nACTIVITY DETAILS OF PARTICIPANT\\nCourse Type : \\nReport Generated At : \\nParticipant Unique ID :\\nGrade Obtained :\\nActivity\\nType\\nActivity\\nName\\nAttempt No Total Marks Pass Marks/\\nCutOff\\nMarks\\nObtained\\nGrade Activity\\nAttempted\\nActivity\\nStatus\\nAssignment\\nLink\\nAssessment Assessment_\\nCSI\\n1 30.0 20 30.0 NA Completed Pass N.A.\\nAssessment Assessment_\\nService\\nDesign\\n1 30.0 20 30.0 NA Completed Pass N.A.\\nAssessment ITIL Final\\nAssessment\\n1 100.0 80 88.0 NA Completed Pass N.A.\\nAssessment Assessment_\\nService\\nOperation\\n1 70.0 40 70.0 NA Completed Pass N.A.\\nAssessment Assessment_\\nService\\nStrategy\\n1 30.0 20 20.0 NA Completed Pass N.A.\\nAssessment Assessment_\\nITIL\\nIntroduction\\n1 30.0 20 20.0 NA Completed Pass N.A.\\nAssessment Assessment_\\nService\\nTransition\\n1 30.0 20 30.0 NA Completed Pass N.A.\\nB\\n01 Mar 2025 11:26 AM\\nCLP - RiO - Application Operation Competency - E0 - SP Batch 7\\nSelf Paced\\n88.0 %\\nVijaya Gunji\\nPass\\n2476596'), Document(metadata={'page': 0, 'page_label': '1', 'source': 'C:\\\\Users\\\\my pc\\\\Downloads\\\\Vijaya Gunji report  (3).pdf'}, page_content='Self Paced\\n88.0 %\\nVijaya Gunji\\nPass\\n2476596\\n1095 Days\\nvijayaraju.gunji@tcs.com')], [Document(metadata={'page': 0, 'page_label': '1', 'source': 'C:\\\\Users\\\\my pc\\\\Downloads\\\\Vijaya Gunji report  (3).pdf'}, page_content='Self Paced\\n88.0 %\\nVijaya Gunji\\nPass\\n2476596\\n1095 Days\\nvijayaraju.gunji@tcs.com'), Document(metadata={'page': 0, 'page_label': '1', 'source': 'C:\\\\Users\\\\my pc\\\\Downloads\\\\Vijaya Gunji report  (3).pdf'}, page_content='Result : \\nCourse Name : \\nCourse Duration : \\nParticipant Name : \\nParticipant Email ID : \\n% of TOC read :\\nACTIVITY DETAILS OF PARTICIPANT\\nCourse Type : \\nReport Generated At : \\nParticipant Unique ID :\\nGrade Obtained :\\nActivity\\nType\\nActivity\\nName\\nAttempt No Total Marks Pass Marks/\\nCutOff\\nMarks\\nObtained\\nGrade Activity\\nAttempted\\nActivity\\nStatus\\nAssignment\\nLink\\nAssessment Assessment_\\nCSI\\n1 30.0 20 30.0 NA Completed Pass N.A.\\nAssessment Assessment_\\nService\\nDesign\\n1 30.0 20 30.0 NA Completed Pass N.A.\\nAssessment ITIL Final\\nAssessment\\n1 100.0 80 88.0 NA Completed Pass N.A.\\nAssessment Assessment_\\nService\\nOperation\\n1 70.0 40 70.0 NA Completed Pass N.A.\\nAssessment Assessment_\\nService\\nStrategy\\n1 30.0 20 20.0 NA Completed Pass N.A.\\nAssessment Assessment_\\nITIL\\nIntroduction\\n1 30.0 20 20.0 NA Completed Pass N.A.\\nAssessment Assessment_\\nService\\nTransition\\n1 30.0 20 30.0 NA Completed Pass N.A.\\nB\\n01 Mar 2025 11:26 AM\\nCLP - RiO - Application Operation Competency - E0 - SP Batch 7\\nSelf Paced\\n88.0 %\\nVijaya Gunji\\nPass\\n2476596')]]}\n"
     ]
    },
    {
     "name": "stderr",
     "output_type": "stream",
     "text": [
      "Number of requested results 4 is greater than number of elements in index 2, updating n_results = 2\n",
      "Number of requested results 4 is greater than number of elements in index 2, updating n_results = 2\n",
      "Number of requested results 4 is greater than number of elements in index 2, updating n_results = 2\n",
      "Number of requested results 4 is greater than number of elements in index 2, updating n_results = 2\n",
      "Number of requested results 4 is greater than number of elements in index 2, updating n_results = 2\n",
      "Number of requested results 4 is greater than number of elements in index 2, updating n_results = 2\n",
      "Number of requested results 4 is greater than number of elements in index 2, updating n_results = 2\n",
      "Number of requested results 4 is greater than number of elements in index 2, updating n_results = 2\n",
      "Number of requested results 4 is greater than number of elements in index 2, updating n_results = 2\n",
      "Number of requested results 4 is greater than number of elements in index 2, updating n_results = 2\n",
      "Number of requested results 4 is greater than number of elements in index 2, updating n_results = 2\n",
      "Number of requested results 4 is greater than number of elements in index 2, updating n_results = 2\n",
      "Number of requested results 4 is greater than number of elements in index 2, updating n_results = 2\n",
      "Number of requested results 4 is greater than number of elements in index 2, updating n_results = 2\n",
      "Number of requested results 4 is greater than number of elements in index 2, updating n_results = 2\n",
      "Number of requested results 4 is greater than number of elements in index 2, updating n_results = 2\n",
      "Number of requested results 4 is greater than number of elements in index 2, updating n_results = 2\n",
      "Number of requested results 4 is greater than number of elements in index 2, updating n_results = 2\n"
     ]
    },
    {
     "ename": "KeyError",
     "evalue": "\"Input to ChatPromptTemplate is missing variables {'history'}.  Expected: ['context', 'history', 'input'] Received: ['input', 'context']\\nNote: if you intended {history} to be part of the string and not a variable, please escape it with double curly braces like: '{{history}}'.\\nFor troubleshooting, visit: https://python.langchain.com/docs/troubleshooting/errors/INVALID_PROMPT_INPUT \"",
     "output_type": "error",
     "traceback": [
      "\u001b[1;31m---------------------------------------------------------------------------\u001b[0m",
      "\u001b[1;31mKeyError\u001b[0m                                  Traceback (most recent call last)",
      "Cell \u001b[1;32mIn[20], line 48\u001b[0m\n\u001b[0;32m     43\u001b[0m \u001b[38;5;28mprint\u001b[39m(\u001b[38;5;124m\"\u001b[39m\u001b[38;5;124mRetrieval chain response===========>\u001b[39m\u001b[38;5;124m\"\u001b[39m, retriever_chain\u001b[38;5;241m.\u001b[39minvoke({\u001b[38;5;124m\"\u001b[39m\u001b[38;5;124minput\u001b[39m\u001b[38;5;124m\"\u001b[39m: query}))\n\u001b[0;32m     45\u001b[0m rag_chain \u001b[38;5;241m=\u001b[39m retriever_chain \u001b[38;5;241m|\u001b[39m prompt_1 \u001b[38;5;241m|\u001b[39m model \u001b[38;5;241m|\u001b[39m StrOutputParser()\n\u001b[1;32m---> 48\u001b[0m \u001b[38;5;28mprint\u001b[39m(\u001b[38;5;124m\"\u001b[39m\u001b[38;5;124mRag chain response=========>\u001b[39m\u001b[38;5;124m\"\u001b[39m,\u001b[43mrag_chain\u001b[49m\u001b[38;5;241;43m.\u001b[39;49m\u001b[43minvoke\u001b[49m\u001b[43m(\u001b[49m\u001b[43m{\u001b[49m\u001b[38;5;124;43m\"\u001b[39;49m\u001b[38;5;124;43minput\u001b[39;49m\u001b[38;5;124;43m\"\u001b[39;49m\u001b[43m:\u001b[49m\u001b[43mquery\u001b[49m\u001b[43m}\u001b[49m\u001b[43m)\u001b[49m)\n\u001b[0;32m     50\u001b[0m chain_with_history \u001b[38;5;241m=\u001b[39m RunnableWithMessageHistory(\n\u001b[0;32m     51\u001b[0m     rag_chain,\n\u001b[0;32m     52\u001b[0m     \u001b[38;5;28;01mlambda\u001b[39;00m session_id:SQLChatMessageHistory(\n\u001b[1;32m   (...)\u001b[0m\n\u001b[0;32m     56\u001b[0m     history_messages_key\u001b[38;5;241m=\u001b[39m\u001b[38;5;124m\"\u001b[39m\u001b[38;5;124mhistory\u001b[39m\u001b[38;5;124m\"\u001b[39m, \n\u001b[0;32m     57\u001b[0m )\n\u001b[0;32m     59\u001b[0m config \u001b[38;5;241m=\u001b[39m {\u001b[38;5;124m\"\u001b[39m\u001b[38;5;124mconfigurable\u001b[39m\u001b[38;5;124m\"\u001b[39m:{\u001b[38;5;124m\"\u001b[39m\u001b[38;5;124msession_id\u001b[39m\u001b[38;5;124m\"\u001b[39m: session_id}}\n",
      "File \u001b[1;32m~\\AppData\\Roaming\\Python\\Python312\\site-packages\\langchain_core\\runnables\\base.py:3022\u001b[0m, in \u001b[0;36mRunnableSequence.invoke\u001b[1;34m(self, input, config, **kwargs)\u001b[0m\n\u001b[0;32m   3020\u001b[0m             \u001b[38;5;28minput\u001b[39m \u001b[38;5;241m=\u001b[39m context\u001b[38;5;241m.\u001b[39mrun(step\u001b[38;5;241m.\u001b[39minvoke, \u001b[38;5;28minput\u001b[39m, config, \u001b[38;5;241m*\u001b[39m\u001b[38;5;241m*\u001b[39mkwargs)\n\u001b[0;32m   3021\u001b[0m         \u001b[38;5;28;01melse\u001b[39;00m:\n\u001b[1;32m-> 3022\u001b[0m             \u001b[38;5;28minput\u001b[39m \u001b[38;5;241m=\u001b[39m \u001b[43mcontext\u001b[49m\u001b[38;5;241;43m.\u001b[39;49m\u001b[43mrun\u001b[49m\u001b[43m(\u001b[49m\u001b[43mstep\u001b[49m\u001b[38;5;241;43m.\u001b[39;49m\u001b[43minvoke\u001b[49m\u001b[43m,\u001b[49m\u001b[43m \u001b[49m\u001b[38;5;28;43minput\u001b[39;49m\u001b[43m,\u001b[49m\u001b[43m \u001b[49m\u001b[43mconfig\u001b[49m\u001b[43m)\u001b[49m\n\u001b[0;32m   3023\u001b[0m \u001b[38;5;66;03m# finish the root run\u001b[39;00m\n\u001b[0;32m   3024\u001b[0m \u001b[38;5;28;01mexcept\u001b[39;00m \u001b[38;5;167;01mBaseException\u001b[39;00m \u001b[38;5;28;01mas\u001b[39;00m e:\n",
      "File \u001b[1;32m~\\AppData\\Roaming\\Python\\Python312\\site-packages\\langchain_core\\prompts\\base.py:208\u001b[0m, in \u001b[0;36mBasePromptTemplate.invoke\u001b[1;34m(self, input, config, **kwargs)\u001b[0m\n\u001b[0;32m    206\u001b[0m \u001b[38;5;28;01mif\u001b[39;00m \u001b[38;5;28mself\u001b[39m\u001b[38;5;241m.\u001b[39mtags:\n\u001b[0;32m    207\u001b[0m     config[\u001b[38;5;124m\"\u001b[39m\u001b[38;5;124mtags\u001b[39m\u001b[38;5;124m\"\u001b[39m] \u001b[38;5;241m=\u001b[39m config[\u001b[38;5;124m\"\u001b[39m\u001b[38;5;124mtags\u001b[39m\u001b[38;5;124m\"\u001b[39m] \u001b[38;5;241m+\u001b[39m \u001b[38;5;28mself\u001b[39m\u001b[38;5;241m.\u001b[39mtags\n\u001b[1;32m--> 208\u001b[0m \u001b[38;5;28;01mreturn\u001b[39;00m \u001b[38;5;28;43mself\u001b[39;49m\u001b[38;5;241;43m.\u001b[39;49m\u001b[43m_call_with_config\u001b[49m\u001b[43m(\u001b[49m\n\u001b[0;32m    209\u001b[0m \u001b[43m    \u001b[49m\u001b[38;5;28;43mself\u001b[39;49m\u001b[38;5;241;43m.\u001b[39;49m\u001b[43m_format_prompt_with_error_handling\u001b[49m\u001b[43m,\u001b[49m\n\u001b[0;32m    210\u001b[0m \u001b[43m    \u001b[49m\u001b[38;5;28;43minput\u001b[39;49m\u001b[43m,\u001b[49m\n\u001b[0;32m    211\u001b[0m \u001b[43m    \u001b[49m\u001b[43mconfig\u001b[49m\u001b[43m,\u001b[49m\n\u001b[0;32m    212\u001b[0m \u001b[43m    \u001b[49m\u001b[43mrun_type\u001b[49m\u001b[38;5;241;43m=\u001b[39;49m\u001b[38;5;124;43m\"\u001b[39;49m\u001b[38;5;124;43mprompt\u001b[39;49m\u001b[38;5;124;43m\"\u001b[39;49m\u001b[43m,\u001b[49m\n\u001b[0;32m    213\u001b[0m \u001b[43m    \u001b[49m\u001b[43mserialized\u001b[49m\u001b[38;5;241;43m=\u001b[39;49m\u001b[38;5;28;43mself\u001b[39;49m\u001b[38;5;241;43m.\u001b[39;49m\u001b[43m_serialized\u001b[49m\u001b[43m,\u001b[49m\n\u001b[0;32m    214\u001b[0m \u001b[43m\u001b[49m\u001b[43m)\u001b[49m\n",
      "File \u001b[1;32m~\\AppData\\Roaming\\Python\\Python312\\site-packages\\langchain_core\\runnables\\base.py:1925\u001b[0m, in \u001b[0;36mRunnable._call_with_config\u001b[1;34m(self, func, input, config, run_type, serialized, **kwargs)\u001b[0m\n\u001b[0;32m   1921\u001b[0m     context \u001b[38;5;241m=\u001b[39m copy_context()\n\u001b[0;32m   1922\u001b[0m     context\u001b[38;5;241m.\u001b[39mrun(_set_config_context, child_config)\n\u001b[0;32m   1923\u001b[0m     output \u001b[38;5;241m=\u001b[39m cast(\n\u001b[0;32m   1924\u001b[0m         Output,\n\u001b[1;32m-> 1925\u001b[0m         \u001b[43mcontext\u001b[49m\u001b[38;5;241;43m.\u001b[39;49m\u001b[43mrun\u001b[49m\u001b[43m(\u001b[49m\n\u001b[0;32m   1926\u001b[0m \u001b[43m            \u001b[49m\u001b[43mcall_func_with_variable_args\u001b[49m\u001b[43m,\u001b[49m\u001b[43m  \u001b[49m\u001b[38;5;66;43;03m# type: ignore[arg-type]\u001b[39;49;00m\n\u001b[0;32m   1927\u001b[0m \u001b[43m            \u001b[49m\u001b[43mfunc\u001b[49m\u001b[43m,\u001b[49m\u001b[43m  \u001b[49m\u001b[38;5;66;43;03m# type: ignore[arg-type]\u001b[39;49;00m\n\u001b[0;32m   1928\u001b[0m \u001b[43m            \u001b[49m\u001b[38;5;28;43minput\u001b[39;49m\u001b[43m,\u001b[49m\u001b[43m  \u001b[49m\u001b[38;5;66;43;03m# type: ignore[arg-type]\u001b[39;49;00m\n\u001b[0;32m   1929\u001b[0m \u001b[43m            \u001b[49m\u001b[43mconfig\u001b[49m\u001b[43m,\u001b[49m\n\u001b[0;32m   1930\u001b[0m \u001b[43m            \u001b[49m\u001b[43mrun_manager\u001b[49m\u001b[43m,\u001b[49m\n\u001b[0;32m   1931\u001b[0m \u001b[43m            \u001b[49m\u001b[38;5;241;43m*\u001b[39;49m\u001b[38;5;241;43m*\u001b[39;49m\u001b[43mkwargs\u001b[49m\u001b[43m,\u001b[49m\n\u001b[0;32m   1932\u001b[0m \u001b[43m        \u001b[49m\u001b[43m)\u001b[49m,\n\u001b[0;32m   1933\u001b[0m     )\n\u001b[0;32m   1934\u001b[0m \u001b[38;5;28;01mexcept\u001b[39;00m \u001b[38;5;167;01mBaseException\u001b[39;00m \u001b[38;5;28;01mas\u001b[39;00m e:\n\u001b[0;32m   1935\u001b[0m     run_manager\u001b[38;5;241m.\u001b[39mon_chain_error(e)\n",
      "File \u001b[1;32m~\\AppData\\Roaming\\Python\\Python312\\site-packages\\langchain_core\\runnables\\config.py:396\u001b[0m, in \u001b[0;36mcall_func_with_variable_args\u001b[1;34m(func, input, config, run_manager, **kwargs)\u001b[0m\n\u001b[0;32m    394\u001b[0m \u001b[38;5;28;01mif\u001b[39;00m run_manager \u001b[38;5;129;01mis\u001b[39;00m \u001b[38;5;129;01mnot\u001b[39;00m \u001b[38;5;28;01mNone\u001b[39;00m \u001b[38;5;129;01mand\u001b[39;00m accepts_run_manager(func):\n\u001b[0;32m    395\u001b[0m     kwargs[\u001b[38;5;124m\"\u001b[39m\u001b[38;5;124mrun_manager\u001b[39m\u001b[38;5;124m\"\u001b[39m] \u001b[38;5;241m=\u001b[39m run_manager\n\u001b[1;32m--> 396\u001b[0m \u001b[38;5;28;01mreturn\u001b[39;00m \u001b[43mfunc\u001b[49m\u001b[43m(\u001b[49m\u001b[38;5;28;43minput\u001b[39;49m\u001b[43m,\u001b[49m\u001b[43m \u001b[49m\u001b[38;5;241;43m*\u001b[39;49m\u001b[38;5;241;43m*\u001b[39;49m\u001b[43mkwargs\u001b[49m\u001b[43m)\u001b[49m\n",
      "File \u001b[1;32m~\\AppData\\Roaming\\Python\\Python312\\site-packages\\langchain_core\\prompts\\base.py:182\u001b[0m, in \u001b[0;36mBasePromptTemplate._format_prompt_with_error_handling\u001b[1;34m(self, inner_input)\u001b[0m\n\u001b[0;32m    181\u001b[0m \u001b[38;5;28;01mdef\u001b[39;00m\u001b[38;5;250m \u001b[39m\u001b[38;5;21m_format_prompt_with_error_handling\u001b[39m(\u001b[38;5;28mself\u001b[39m, inner_input: \u001b[38;5;28mdict\u001b[39m) \u001b[38;5;241m-\u001b[39m\u001b[38;5;241m>\u001b[39m PromptValue:\n\u001b[1;32m--> 182\u001b[0m     _inner_input \u001b[38;5;241m=\u001b[39m \u001b[38;5;28;43mself\u001b[39;49m\u001b[38;5;241;43m.\u001b[39;49m\u001b[43m_validate_input\u001b[49m\u001b[43m(\u001b[49m\u001b[43minner_input\u001b[49m\u001b[43m)\u001b[49m\n\u001b[0;32m    183\u001b[0m     \u001b[38;5;28;01mreturn\u001b[39;00m \u001b[38;5;28mself\u001b[39m\u001b[38;5;241m.\u001b[39mformat_prompt(\u001b[38;5;241m*\u001b[39m\u001b[38;5;241m*\u001b[39m_inner_input)\n",
      "File \u001b[1;32m~\\AppData\\Roaming\\Python\\Python312\\site-packages\\langchain_core\\prompts\\base.py:176\u001b[0m, in \u001b[0;36mBasePromptTemplate._validate_input\u001b[1;34m(self, inner_input)\u001b[0m\n\u001b[0;32m    170\u001b[0m     example_key \u001b[38;5;241m=\u001b[39m missing\u001b[38;5;241m.\u001b[39mpop()\n\u001b[0;32m    171\u001b[0m     msg \u001b[38;5;241m+\u001b[39m\u001b[38;5;241m=\u001b[39m (\n\u001b[0;32m    172\u001b[0m         \u001b[38;5;124mf\u001b[39m\u001b[38;5;124m\"\u001b[39m\u001b[38;5;130;01m\\n\u001b[39;00m\u001b[38;5;124mNote: if you intended \u001b[39m\u001b[38;5;130;01m{{\u001b[39;00m\u001b[38;5;132;01m{\u001b[39;00mexample_key\u001b[38;5;132;01m}\u001b[39;00m\u001b[38;5;130;01m}}\u001b[39;00m\u001b[38;5;124m to be part of the string\u001b[39m\u001b[38;5;124m\"\u001b[39m\n\u001b[0;32m    173\u001b[0m         \u001b[38;5;124m\"\u001b[39m\u001b[38;5;124m and not a variable, please escape it with double curly braces like: \u001b[39m\u001b[38;5;124m\"\u001b[39m\n\u001b[0;32m    174\u001b[0m         \u001b[38;5;124mf\u001b[39m\u001b[38;5;124m\"\u001b[39m\u001b[38;5;124m'\u001b[39m\u001b[38;5;130;01m{{\u001b[39;00m\u001b[38;5;130;01m{{\u001b[39;00m\u001b[38;5;132;01m{\u001b[39;00mexample_key\u001b[38;5;132;01m}\u001b[39;00m\u001b[38;5;130;01m}}\u001b[39;00m\u001b[38;5;130;01m}}\u001b[39;00m\u001b[38;5;124m'\u001b[39m\u001b[38;5;124m.\u001b[39m\u001b[38;5;124m\"\u001b[39m\n\u001b[0;32m    175\u001b[0m     )\n\u001b[1;32m--> 176\u001b[0m     \u001b[38;5;28;01mraise\u001b[39;00m \u001b[38;5;167;01mKeyError\u001b[39;00m(\n\u001b[0;32m    177\u001b[0m         create_message(message\u001b[38;5;241m=\u001b[39mmsg, error_code\u001b[38;5;241m=\u001b[39mErrorCode\u001b[38;5;241m.\u001b[39mINVALID_PROMPT_INPUT)\n\u001b[0;32m    178\u001b[0m     )\n\u001b[0;32m    179\u001b[0m \u001b[38;5;28;01mreturn\u001b[39;00m inner_input\n",
      "\u001b[1;31mKeyError\u001b[0m: \"Input to ChatPromptTemplate is missing variables {'history'}.  Expected: ['context', 'history', 'input'] Received: ['input', 'context']\\nNote: if you intended {history} to be part of the string and not a variable, please escape it with double curly braces like: '{{history}}'.\\nFor troubleshooting, visit: https://python.langchain.com/docs/troubleshooting/errors/INVALID_PROMPT_INPUT \""
     ]
    }
   ],
   "source": [
    "ensemble_retriever = EnsembleRetriever(retrievers=[retriever,keyword_retriever],weights=[0.5,0.5])\n",
    "\n",
    "print(\"Ensemble retriver ============>\",ensemble_retriever.invoke(query))\n",
    "    \n",
    "template =\"\"\"You are an AI language model assistant. Your task is to generate five different versions of the given user question to retrieve relevant documents from a vector database. By generating multiple perspectives on the user question, your goal is to help the user overcome some of the limitations of the distance-based similarity search. Provide these alternative questions separated by newlines. Original question: {input}\n",
    "        \"\"\" \n",
    "\n",
    "# prompt_perspectives = ChatPromptTemplate.from_messages(\n",
    "#     [\n",
    "#         (\"system\",template),\n",
    "#         MessagesPlaceholder(\"chat_history\"),\n",
    "#         (\"human\",\"{question}\"),\n",
    "#     ]\n",
    "# )\n",
    "prompt_perspectives = ChatPromptTemplate.from_template(template)\n",
    "\n",
    "generate_queries = (\n",
    "    prompt_perspectives\n",
    "    | model\n",
    "    | StrOutputParser()\n",
    "    | (lambda x: x.split(\"\\n\"))\n",
    ")\n",
    "\n",
    "\n",
    "print(\"multi queries=========================>\",generate_queries.invoke(query))\n",
    "\n",
    "Prompt_template_2 =\"\"\"\"\n",
    "            You are a friendly AI, answering questions that you know based on the context if you know: {context}             \n",
    "Chat history: {history}\n",
    "Question: {input}\n",
    "Helpful Answer:\n",
    "\"\"\" \n",
    "prompt_1 = ChatPromptTemplate.from_template(Prompt_template_2)\n",
    "\n",
    "# code_chain =(\n",
    "#     {\"context\":itemgetter(\"input\")| generate_queries| ensemble_retriever, \"input\": itemgetter(\"input\"), \"history\":itemgetter(\"history\")}\n",
    "#     | prompt\n",
    "#     | self.model\n",
    "#     |StrOutputParser()\n",
    "# )\n",
    "retriever_chain = RunnablePassthrough.assign(context = generate_queries | ensemble_retriever.map())  # ❌ Incorrect\n",
    "\n",
    "print(\"Retrieval chain response===========>\", retriever_chain.invoke({\"input\": query}))\n",
    "\n",
    "rag_chain = retriever_chain | prompt_1 | model | StrOutputParser()\n",
    "\n",
    "\n",
    "print(\"Rag chain response=========>\",rag_chain.invoke({\"input\":query , \"history\":\" \"}))\n",
    "\n",
    "chain_with_history = RunnableWithMessageHistory(\n",
    "    rag_chain,\n",
    "    lambda session_id:SQLChatMessageHistory(\n",
    "        session_id=session_id,\n",
    "        connection_string=\"sqlite:///sqlite.db\"),\n",
    "    input_messages_key =\"input\",\n",
    "    history_messages_key=\"history\", \n",
    ")\n",
    "\n",
    "config = {\"configurable\":{\"session_id\": session_id}}\n",
    "\n",
    "res = chain_with_history.invoke({\"input\":query}, config=config)\n",
    "print(\"result -------------------------->\",res)\n"
   ]
  }
 ],
 "metadata": {
  "kernelspec": {
   "display_name": "Python 3",
   "language": "python",
   "name": "python3"
  },
  "language_info": {
   "codemirror_mode": {
    "name": "ipython",
    "version": 3
   },
   "file_extension": ".py",
   "mimetype": "text/x-python",
   "name": "python",
   "nbconvert_exporter": "python",
   "pygments_lexer": "ipython3",
   "version": "3.12.5"
  }
 },
 "nbformat": 4,
 "nbformat_minor": 2
}
